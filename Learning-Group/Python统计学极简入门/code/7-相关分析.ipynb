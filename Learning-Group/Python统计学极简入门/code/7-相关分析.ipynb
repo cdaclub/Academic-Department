{
 "cells": [
  {
   "cell_type": "markdown",
   "metadata": {},
   "source": [
    "## 统计学相关系数"
   ]
  },
  {
   "cell_type": "markdown",
   "metadata": {},
   "source": [
    "前面的假设检验、方差分析基本上都是围绕差异性分析，不论是单个总体还是两个总体及以上，总之都是属于研究“区别”，从本节开始，我们关注“联系”，变量之间的关系分为 **函数关系和相关关系。** 本节这里重点探讨的是不同类型变量之间的相关性。除表中列出的常用方法外，还有Tetrachoric、$\\phi$相关系数等方式"
   ]
  },
  {
   "cell_type": "markdown",
   "metadata": {},
   "source": [
    "变量类型|变量类型|相关系数计算方法|示例\n",
    "-|-|-|-\n",
    "连续型变量|连续型变量|Pearson(正态)/Spearman(非正态)|商品曝光量和购买转化率\n",
    "二分类变量（无序）|连续型变量|Point-biserial|性别和疾病指数\n",
    "无序分类变量|连续型变量|方差分析|不同教育水平的考试成绩\n",
    "有序分类变量|连续型变量|连续指标离散化后当做有序分类|商品评分与购买转化率\n",
    "二分类变量|二分类变量|数学公式: $\\chi^2 $检验 联合 Cramer's V|性别和是否吸烟\n",
    "二分类变量（有序）|连续型变量|Biserial| 乐器练习时间与考级是否通过\n",
    "无序分类变量|无序分类变量|数学公式: $ \\chi^2 $检验 / Fisher检验|手机品牌和年龄段\n",
    "有序分类变量|无序分类变量|数学公式: $ \\chi^2 $检验 |满意度和手机品牌\n",
    "有序分类变量|有序分类变量|Spearman /Kendall Tau相关系数|用户等级和活跃程度等级"
   ]
  },
  {
   "cell_type": "markdown",
   "metadata": {},
   "source": [
    "### 连续型变量 vs 连续型变量  : Pearson / Spearmanr"
   ]
  },
  {
   "cell_type": "markdown",
   "metadata": {},
   "source": [
    "#### Pearson\n",
    "Pearson相关系数度量了两个连续变量之间的线性相关程度；"
   ]
  },
  {
   "cell_type": "code",
   "execution_count": 58,
   "metadata": {},
   "outputs": [
    {
     "data": {
      "text/html": [
       "<div>\n",
       "<style scoped>\n",
       "    .dataframe tbody tr th:only-of-type {\n",
       "        vertical-align: middle;\n",
       "    }\n",
       "\n",
       "    .dataframe tbody tr th {\n",
       "        vertical-align: top;\n",
       "    }\n",
       "\n",
       "    .dataframe thead th {\n",
       "        text-align: right;\n",
       "    }\n",
       "</style>\n",
       "<table border=\"1\" class=\"dataframe\">\n",
       "  <thead>\n",
       "    <tr style=\"text-align: right;\">\n",
       "      <th></th>\n",
       "      <th>商品曝光量</th>\n",
       "      <th>购买转化率</th>\n",
       "    </tr>\n",
       "  </thead>\n",
       "  <tbody>\n",
       "    <tr>\n",
       "      <th>0</th>\n",
       "      <td>1233</td>\n",
       "      <td>0.033</td>\n",
       "    </tr>\n",
       "    <tr>\n",
       "      <th>1</th>\n",
       "      <td>1333</td>\n",
       "      <td>0.034</td>\n",
       "    </tr>\n",
       "    <tr>\n",
       "      <th>2</th>\n",
       "      <td>1330</td>\n",
       "      <td>0.035</td>\n",
       "    </tr>\n",
       "    <tr>\n",
       "      <th>3</th>\n",
       "      <td>1323</td>\n",
       "      <td>0.033</td>\n",
       "    </tr>\n",
       "    <tr>\n",
       "      <th>4</th>\n",
       "      <td>1323</td>\n",
       "      <td>0.034</td>\n",
       "    </tr>\n",
       "    <tr>\n",
       "      <th>5</th>\n",
       "      <td>1142</td>\n",
       "      <td>0.029</td>\n",
       "    </tr>\n",
       "    <tr>\n",
       "      <th>6</th>\n",
       "      <td>1231</td>\n",
       "      <td>0.032</td>\n",
       "    </tr>\n",
       "    <tr>\n",
       "      <th>7</th>\n",
       "      <td>1312</td>\n",
       "      <td>0.034</td>\n",
       "    </tr>\n",
       "    <tr>\n",
       "      <th>8</th>\n",
       "      <td>1233</td>\n",
       "      <td>0.033</td>\n",
       "    </tr>\n",
       "    <tr>\n",
       "      <th>9</th>\n",
       "      <td>1123</td>\n",
       "      <td>0.031</td>\n",
       "    </tr>\n",
       "  </tbody>\n",
       "</table>\n",
       "</div>"
      ],
      "text/plain": [
       "   商品曝光量  购买转化率\n",
       "0   1233  0.033\n",
       "1   1333  0.034\n",
       "2   1330  0.035\n",
       "3   1323  0.033\n",
       "4   1323  0.034\n",
       "5   1142  0.029\n",
       "6   1231  0.032\n",
       "7   1312  0.034\n",
       "8   1233  0.033\n",
       "9   1123  0.031"
      ]
     },
     "execution_count": 58,
     "metadata": {},
     "output_type": "execute_result"
    }
   ],
   "source": [
    "import random \n",
    "import numpy as np\n",
    "import pandas as pd\n",
    "\n",
    "np.random.seed(10)\n",
    "df = pd.DataFrame({'商品曝光量':[1233,1333,1330,1323,1323,1142,1231,1312,1233,1123],\n",
    "     '购买转化率':[0.033,0.034,0.035,0.033,0.034,0.029,0.032,0.034,0.033,0.031]})\n",
    "df"
   ]
  },
  {
   "cell_type": "markdown",
   "metadata": {},
   "source": [
    "- Pandas计算Pearson相关系数"
   ]
  },
  {
   "cell_type": "code",
   "execution_count": 59,
   "metadata": {},
   "outputs": [
    {
     "data": {
      "text/plain": [
       "0.885789300493948"
      ]
     },
     "execution_count": 59,
     "metadata": {},
     "output_type": "execute_result"
    }
   ],
   "source": [
    "pd.Series.corr(df['商品曝光量'], df['购买转化率'],method = 'pearson') # pearson相关系数"
   ]
  },
  {
   "cell_type": "markdown",
   "metadata": {},
   "source": [
    "- scipy计算Pearson相关系数"
   ]
  },
  {
   "cell_type": "code",
   "execution_count": 60,
   "metadata": {},
   "outputs": [
    {
     "name": "stdout",
     "output_type": "stream",
     "text": [
      "Pearson相关系数: 0.8857893004939478\n",
      "p值: 0.0006471519603654732\n"
     ]
    }
   ],
   "source": [
    "import scipy.stats as stats\n",
    "\n",
    "# 假设有两个变量X和Y\n",
    "X = df['商品曝光量']\n",
    "Y = df['购买转化率']\n",
    "\n",
    "# 使用spearmanr函数计算斯皮尔曼相关系数和p值\n",
    "corr, p_value = stats.pearsonr(X, Y)\n",
    "\n",
    "print(\"Pearson相关系数:\", corr)\n",
    "print(\"p值:\", p_value)\n"
   ]
  },
  {
   "cell_type": "markdown",
   "metadata": {},
   "source": [
    "#### Spearman等级相关系数\n",
    "Spearman等级相关系数可以衡量非线性关系变量间的相关系数，是一种非参数的统计方法，可以用于定序变量或不满足正态分布假设的等间隔数据；"
   ]
  },
  {
   "cell_type": "code",
   "execution_count": 61,
   "metadata": {},
   "outputs": [
    {
     "data": {
      "text/html": [
       "<div>\n",
       "<style scoped>\n",
       "    .dataframe tbody tr th:only-of-type {\n",
       "        vertical-align: middle;\n",
       "    }\n",
       "\n",
       "    .dataframe tbody tr th {\n",
       "        vertical-align: top;\n",
       "    }\n",
       "\n",
       "    .dataframe thead th {\n",
       "        text-align: right;\n",
       "    }\n",
       "</style>\n",
       "<table border=\"1\" class=\"dataframe\">\n",
       "  <thead>\n",
       "    <tr style=\"text-align: right;\">\n",
       "      <th></th>\n",
       "      <th>品牌知名度排位</th>\n",
       "      <th>售后服务质量评价排位</th>\n",
       "    </tr>\n",
       "  </thead>\n",
       "  <tbody>\n",
       "    <tr>\n",
       "      <th>0</th>\n",
       "      <td>9</td>\n",
       "      <td>8</td>\n",
       "    </tr>\n",
       "    <tr>\n",
       "      <th>1</th>\n",
       "      <td>4</td>\n",
       "      <td>2</td>\n",
       "    </tr>\n",
       "    <tr>\n",
       "      <th>2</th>\n",
       "      <td>3</td>\n",
       "      <td>5</td>\n",
       "    </tr>\n",
       "    <tr>\n",
       "      <th>3</th>\n",
       "      <td>6</td>\n",
       "      <td>4</td>\n",
       "    </tr>\n",
       "    <tr>\n",
       "      <th>4</th>\n",
       "      <td>5</td>\n",
       "      <td>7</td>\n",
       "    </tr>\n",
       "    <tr>\n",
       "      <th>5</th>\n",
       "      <td>8</td>\n",
       "      <td>9</td>\n",
       "    </tr>\n",
       "    <tr>\n",
       "      <th>6</th>\n",
       "      <td>1</td>\n",
       "      <td>1</td>\n",
       "    </tr>\n",
       "    <tr>\n",
       "      <th>7</th>\n",
       "      <td>7</td>\n",
       "      <td>6</td>\n",
       "    </tr>\n",
       "    <tr>\n",
       "      <th>8</th>\n",
       "      <td>10</td>\n",
       "      <td>10</td>\n",
       "    </tr>\n",
       "    <tr>\n",
       "      <th>9</th>\n",
       "      <td>2</td>\n",
       "      <td>3</td>\n",
       "    </tr>\n",
       "  </tbody>\n",
       "</table>\n",
       "</div>"
      ],
      "text/plain": [
       "   品牌知名度排位  售后服务质量评价排位\n",
       "0        9           8\n",
       "1        4           2\n",
       "2        3           5\n",
       "3        6           4\n",
       "4        5           7\n",
       "5        8           9\n",
       "6        1           1\n",
       "7        7           6\n",
       "8       10          10\n",
       "9        2           3"
      ]
     },
     "execution_count": 61,
     "metadata": {},
     "output_type": "execute_result"
    }
   ],
   "source": [
    "import random \n",
    "import numpy as np\n",
    "import pandas as pd\n",
    "\n",
    "np.random.seed(10)\n",
    "df = pd.DataFrame({'品牌知名度排位':[9,4,3,6,5,8,1,7,10,2],\n",
    "     '售后服务质量评价排位':[8,2,5,4,7,9,1,6,10,3]})\n",
    "df"
   ]
  },
  {
   "cell_type": "markdown",
   "metadata": {},
   "source": [
    "- Pandas计算spearman相关系数"
   ]
  },
  {
   "cell_type": "code",
   "execution_count": 62,
   "metadata": {},
   "outputs": [
    {
     "data": {
      "text/plain": [
       "0.8787878787878788"
      ]
     },
     "execution_count": 62,
     "metadata": {},
     "output_type": "execute_result"
    }
   ],
   "source": [
    "pd.Series.corr(df['品牌知名度排位'], df['售后服务质量评价排位'],method = 'spearman') # spearman秩相关"
   ]
  },
  {
   "cell_type": "markdown",
   "metadata": {},
   "source": [
    "- scipy计算spearman相关系数"
   ]
  },
  {
   "cell_type": "code",
   "execution_count": 63,
   "metadata": {},
   "outputs": [
    {
     "name": "stdout",
     "output_type": "stream",
     "text": [
      "斯皮尔曼相关系数: 0.8787878787878788\n",
      "p值: 0.0008138621117322101\n"
     ]
    }
   ],
   "source": [
    "import scipy.stats as stats\n",
    "\n",
    "# 假设有两个变量X和Y\n",
    "X = df['品牌知名度排位']\n",
    "Y = df['售后服务质量评价排位']\n",
    "\n",
    "# 使用spearmanr函数计算斯皮尔曼相关系数和p值\n",
    "corr, p_value = stats.spearmanr(X, Y)\n",
    "\n",
    "print(\"斯皮尔曼相关系数:\", corr)\n",
    "print(\"p值:\", p_value)\n"
   ]
  },
  {
   "cell_type": "markdown",
   "metadata": {},
   "source": [
    "**结论**:`p = 0.0008＜0.05`，表明两变量之间的正向关系很显著。"
   ]
  },
  {
   "cell_type": "markdown",
   "metadata": {},
   "source": [
    "### 二分类变量（自然）vs 连续型变量\t:Point-biserial"
   ]
  },
  {
   "cell_type": "markdown",
   "metadata": {},
   "source": [
    "假设我们想要研究性别对于某种疾病是否存在影响。我们有一个二元变量“性别”（男、女）和一个连续型变量“疾病指数”。我们想要计算性别与疾病指数之间的相关系数，就需要用到Point-biserial相关系数。"
   ]
  },
  {
   "cell_type": "code",
   "execution_count": 64,
   "metadata": {},
   "outputs": [
    {
     "name": "stdout",
     "output_type": "stream",
     "text": [
      "Point-biserial相关系数: 0.9278305692406299\n",
      "p值: 0.007624695507848026\n"
     ]
    }
   ],
   "source": [
    "import scipy.stats as stats\n",
    "\n",
    "# 创建一个列表来存储数据\n",
    "gender = [0, 1, 0, 1, 1, 0]\n",
    "disease_index = [3.2, 4.5, 2.8, 4.0, 3.9, 3.1]\n",
    "\n",
    "# 使用pointbiserialr函数计算Point-biserial相关系数和p值\n",
    "corr, p_value = stats.pointbiserialr(gender, disease_index)\n",
    "\n",
    "print(\"Point-biserial相关系数:\", corr)\n",
    "print(\"p值:\", p_value)\n"
   ]
  },
  {
   "cell_type": "markdown",
   "metadata": {},
   "source": [
    "**结论**:`p = 0.007＜0.05`，表明两变量之间的正向关系很显著。即性别与疾病指数正相关"
   ]
  },
  {
   "cell_type": "markdown",
   "metadata": {},
   "source": [
    "### 无序分类变量 vs \t连续型变量\t： ANOVA"
   ]
  },
  {
   "cell_type": "markdown",
   "metadata": {},
   "source": [
    "假设我们想要比较不同教育水平的学生在CDA考试成绩上是否存在显著差异。我们有一个无序分类变量“教育水平”（高中、本科、研究生）和一个连续型变量“考试成绩”。"
   ]
  },
  {
   "cell_type": "code",
   "execution_count": 65,
   "metadata": {},
   "outputs": [
    {
     "data": {
      "text/html": [
       "<div>\n",
       "<style scoped>\n",
       "    .dataframe tbody tr th:only-of-type {\n",
       "        vertical-align: middle;\n",
       "    }\n",
       "\n",
       "    .dataframe tbody tr th {\n",
       "        vertical-align: top;\n",
       "    }\n",
       "\n",
       "    .dataframe thead th {\n",
       "        text-align: right;\n",
       "    }\n",
       "</style>\n",
       "<table border=\"1\" class=\"dataframe\">\n",
       "  <thead>\n",
       "    <tr style=\"text-align: right;\">\n",
       "      <th></th>\n",
       "      <th>sum_sq</th>\n",
       "      <th>df</th>\n",
       "      <th>F</th>\n",
       "      <th>PR(&gt;F)</th>\n",
       "    </tr>\n",
       "  </thead>\n",
       "  <tbody>\n",
       "    <tr>\n",
       "      <th>C(教育水平)</th>\n",
       "      <td>264.047619</td>\n",
       "      <td>2.0</td>\n",
       "      <td>17.800963</td>\n",
       "      <td>0.010202</td>\n",
       "    </tr>\n",
       "    <tr>\n",
       "      <th>Residual</th>\n",
       "      <td>29.666667</td>\n",
       "      <td>4.0</td>\n",
       "      <td>NaN</td>\n",
       "      <td>NaN</td>\n",
       "    </tr>\n",
       "  </tbody>\n",
       "</table>\n",
       "</div>"
      ],
      "text/plain": [
       "              sum_sq   df          F    PR(>F)\n",
       "C(教育水平)   264.047619  2.0  17.800963  0.010202\n",
       "Residual   29.666667  4.0        NaN       NaN"
      ]
     },
     "execution_count": 65,
     "metadata": {},
     "output_type": "execute_result"
    }
   ],
   "source": [
    "import pandas as pd\n",
    "import statsmodels.api as sm\n",
    "from statsmodels.formula.api import ols\n",
    "\n",
    "# 创建一个DataFrame来存储数据\n",
    "data = pd.DataFrame({\n",
    "    '教育水平': ['高中', '本科', '本科', '研究生', '高中', '本科', '研究生'],\n",
    "    '考试成绩': [80, 90, 85, 95, 75, 88, 92]\n",
    "})\n",
    "\n",
    "# 使用ols函数创建一个线性模型\n",
    "model = ols('考试成绩 ~ C(教育水平)', data=data).fit()\n",
    "\n",
    "# 使用anova_lm函数进行方差分析\n",
    "anova_table = sm.stats.anova_lm(model, typ=2)\n",
    "anova_table"
   ]
  },
  {
   "cell_type": "markdown",
   "metadata": {},
   "source": [
    "**结论**:`p = 0.0102＜0.05`，拒绝原假设，表明两变量之间的正向关系很显著。教育水平与考试成绩正相关"
   ]
  },
  {
   "cell_type": "markdown",
   "metadata": {},
   "source": [
    "### 有序分类变量 vs \t连续型变量"
   ]
  },
  {
   "cell_type": "markdown",
   "metadata": {},
   "source": [
    "将连续型变量离散化后当做有序分类，然后用 有序分类变量 VS 有序分类变量的方法"
   ]
  },
  {
   "cell_type": "markdown",
   "metadata": {},
   "source": [
    "### 二分类变量 vs \t二分类变量  ：$ \\chi^2 $检验 联合 Cramer's V"
   ]
  },
  {
   "cell_type": "markdown",
   "metadata": {},
   "source": [
    "一项研究调查了不同性别的成年人对在公众场合吸烟的态度，结果如表所示。那么，性别与对待吸烟的态度之间的相关程度\n",
    "\n",
    "-|赞同|反对\n",
    "-|-|-\n",
    "男|15|10\n",
    "女|10|26\n"
   ]
  },
  {
   "cell_type": "code",
   "execution_count": 66,
   "metadata": {},
   "outputs": [
    {
     "data": {
      "text/plain": [
       "(6.3334567901234555, 0.011848116168529757)"
      ]
     },
     "execution_count": 66,
     "metadata": {},
     "output_type": "execute_result"
    }
   ],
   "source": [
    "import numpy as np\n",
    "from scipy.stats import chi2_contingency\n",
    "\n",
    "observed = np.array([[15, 10],\n",
    "                     [10, 26]])\n",
    "observed\n",
    "\n",
    "chi2, p, dof, expected = chi2_contingency(observed,correction =False) # correction =False\n",
    "# 卡方值 \n",
    "# P值 \n",
    "# 自由度： \n",
    "# 与原数据数组同维度的对应期望值\n",
    "\n",
    "chi2, p"
   ]
  },
  {
   "cell_type": "markdown",
   "metadata": {},
   "source": [
    "**结论**:`p = 0.0118＜0.05`，拒绝原假设，表明两变量之间的正向关系很显著。"
   ]
  },
  {
   "cell_type": "code",
   "execution_count": 67,
   "metadata": {},
   "outputs": [
    {
     "name": "stdout",
     "output_type": "stream",
     "text": [
      "phi's V: 0.3222222222222222\n"
     ]
    }
   ],
   "source": [
    "phi = np.sqrt(chi2/n)\n",
    "print(\"phi's V:\", phi)"
   ]
  },
  {
   "cell_type": "markdown",
   "metadata": {},
   "source": [
    "> 卡方检验时有多种指标(SPSSAU提供五类)可表示效应量，可结合数据类型及交叉表格类型综合选择\n",
    "- 第一：如果是2*2表格，建议使用Phi指标；\n",
    "- 第二：如果是3*3,或4*4表格，建议使用列联系数；\n",
    "- 第三：如果是n*n(n>4)表格，建议使用校正列联系数；\n",
    "- 第四：如果是m*n(m不等于n)表格，建议使用Cramer V指标；\n",
    "- 第五：如果X或Y中有定序数据，建议使用Lambda指标；"
   ]
  },
  {
   "cell_type": "code",
   "execution_count": 68,
   "metadata": {},
   "outputs": [
    {
     "name": "stdout",
     "output_type": "stream",
     "text": [
      "Cramer's V: 0.22878509151645754\n"
     ]
    }
   ],
   "source": [
    "# 计算Cramer's V \n",
    "# 注：这里只是示例一下，实际m≠n的数据才用Cramer's V \n",
    "contingency_table = observed\n",
    "n = contingency_table.sum().sum()\n",
    "phi_corr = np.sqrt(chi2 / (n * min(contingency_table.shape) - 1))\n",
    "v = phi_corr / np.sqrt(min(contingency_table.shape) - 1)\n",
    "\n",
    "print(\"Cramer's V:\", v)"
   ]
  },
  {
   "cell_type": "markdown",
   "metadata": {},
   "source": [
    "### 二分类变量（有序）\t连续型变量：\t Biserial\t"
   ]
  },
  {
   "cell_type": "code",
   "execution_count": 69,
   "metadata": {},
   "outputs": [
    {
     "name": "stdout",
     "output_type": "stream",
     "text": [
      "Biserial相关系数: -0.34489779153271194\n"
     ]
    }
   ],
   "source": [
    "import numpy as np\n",
    "from scipy.stats import pearsonr\n",
    "\n",
    "# 生成随机的二元变量\n",
    "binary_variable = np.random.choice([0, 1], size=100)\n",
    "\n",
    "# 生成随机的连续变量\n",
    "continuous_variable = np.random.normal(loc=0, scale=1, size=100)\n",
    "\n",
    "\n",
    "# 注：此处的代码未经严格考证，请谨慎使用\n",
    "def biserial_correlation(binary_variable, continuous_variable):\n",
    "    binary_variable_bool = binary_variable.astype(bool)\n",
    "    binary_mean = np.mean(binary_variable_bool)\n",
    "    binary_std = np.std(binary_variable_bool)\n",
    "    \n",
    "    binary_variable_norm = (binary_variable_bool - binary_mean) / binary_std\n",
    "    \n",
    "    corr, _ = pearsonr(binary_variable_norm, continuous_variable)\n",
    "    biserial_corr = corr * (np.std(continuous_variable) / binary_std)\n",
    "    \n",
    "    return biserial_corr\n",
    "\n",
    "# 计算Biserial相关系数\n",
    "biserial_corr = biserial_correlation(binary_variable, continuous_variable)\n",
    "\n",
    "print(\"Biserial相关系数:\", biserial_corr)"
   ]
  },
  {
   "cell_type": "markdown",
   "metadata": {},
   "source": [
    "### 无序分类变量 vs \t无序分类变量\t\n",
    "\n",
    "参考 $ \\chi^2 $检验"
   ]
  },
  {
   "cell_type": "markdown",
   "metadata": {},
   "source": [
    "### 有序分类变量\tvs  无序分类变量\n",
    "\n",
    "参考 $ \\chi^2 $检验 "
   ]
  },
  {
   "cell_type": "markdown",
   "metadata": {},
   "source": [
    "### 有序分类变量\tvs  有序分类变量"
   ]
  },
  {
   "cell_type": "markdown",
   "metadata": {},
   "source": [
    "#### Kendall秩相关系数\n",
    "Kendall秩相关系数也是一种非参数的等级相关度量，类似于Spearman等级相关系数。"
   ]
  },
  {
   "cell_type": "code",
   "execution_count": 70,
   "metadata": {},
   "outputs": [
    {
     "data": {
      "text/html": [
       "<div>\n",
       "<style scoped>\n",
       "    .dataframe tbody tr th:only-of-type {\n",
       "        vertical-align: middle;\n",
       "    }\n",
       "\n",
       "    .dataframe tbody tr th {\n",
       "        vertical-align: top;\n",
       "    }\n",
       "\n",
       "    .dataframe thead th {\n",
       "        text-align: right;\n",
       "    }\n",
       "</style>\n",
       "<table border=\"1\" class=\"dataframe\">\n",
       "  <thead>\n",
       "    <tr style=\"text-align: right;\">\n",
       "      <th></th>\n",
       "      <th>品牌知名度排位</th>\n",
       "      <th>售后服务质量评价排位</th>\n",
       "    </tr>\n",
       "  </thead>\n",
       "  <tbody>\n",
       "    <tr>\n",
       "      <th>0</th>\n",
       "      <td>9</td>\n",
       "      <td>8</td>\n",
       "    </tr>\n",
       "    <tr>\n",
       "      <th>1</th>\n",
       "      <td>4</td>\n",
       "      <td>2</td>\n",
       "    </tr>\n",
       "    <tr>\n",
       "      <th>2</th>\n",
       "      <td>3</td>\n",
       "      <td>5</td>\n",
       "    </tr>\n",
       "    <tr>\n",
       "      <th>3</th>\n",
       "      <td>6</td>\n",
       "      <td>4</td>\n",
       "    </tr>\n",
       "    <tr>\n",
       "      <th>4</th>\n",
       "      <td>5</td>\n",
       "      <td>7</td>\n",
       "    </tr>\n",
       "    <tr>\n",
       "      <th>5</th>\n",
       "      <td>8</td>\n",
       "      <td>9</td>\n",
       "    </tr>\n",
       "    <tr>\n",
       "      <th>6</th>\n",
       "      <td>1</td>\n",
       "      <td>1</td>\n",
       "    </tr>\n",
       "    <tr>\n",
       "      <th>7</th>\n",
       "      <td>7</td>\n",
       "      <td>6</td>\n",
       "    </tr>\n",
       "    <tr>\n",
       "      <th>8</th>\n",
       "      <td>10</td>\n",
       "      <td>10</td>\n",
       "    </tr>\n",
       "    <tr>\n",
       "      <th>9</th>\n",
       "      <td>2</td>\n",
       "      <td>3</td>\n",
       "    </tr>\n",
       "  </tbody>\n",
       "</table>\n",
       "</div>"
      ],
      "text/plain": [
       "   品牌知名度排位  售后服务质量评价排位\n",
       "0        9           8\n",
       "1        4           2\n",
       "2        3           5\n",
       "3        6           4\n",
       "4        5           7\n",
       "5        8           9\n",
       "6        1           1\n",
       "7        7           6\n",
       "8       10          10\n",
       "9        2           3"
      ]
     },
     "execution_count": 70,
     "metadata": {},
     "output_type": "execute_result"
    }
   ],
   "source": [
    "import random \n",
    "import numpy as np\n",
    "import pandas as pd\n",
    "\n",
    "np.random.seed(10)\n",
    "df = pd.DataFrame({'品牌知名度排位':[9,4,3,6,5,8,1,7,10,2],\n",
    "     '售后服务质量评价排位':[8,2,5,4,7,9,1,6,10,3]})\n",
    "df"
   ]
  },
  {
   "cell_type": "code",
   "execution_count": 71,
   "metadata": {},
   "outputs": [
    {
     "data": {
      "text/plain": [
       "0.7333333333333333"
      ]
     },
     "execution_count": 71,
     "metadata": {},
     "output_type": "execute_result"
    }
   ],
   "source": [
    "pd.Series.corr(df['品牌知名度排位'], df['售后服务质量评价排位'],method = 'kendall') # Kendall Tau相关系数"
   ]
  },
  {
   "cell_type": "code",
   "execution_count": 72,
   "metadata": {},
   "outputs": [
    {
     "name": "stdout",
     "output_type": "stream",
     "text": [
      "Kendall Tau相关系数: 0.7333333333333333\n",
      "p值: 0.002212852733686067\n"
     ]
    }
   ],
   "source": [
    "from scipy.stats import kendalltau\n",
    "\n",
    "# 两个样本数据\n",
    "x = df['品牌知名度排位']\n",
    "y = df['售后服务质量评价排位']\n",
    "\n",
    "# 计算Kendall Tau相关系数\n",
    "correlation, p_value = kendalltau(x, y)\n",
    "\n",
    "print(\"Kendall Tau相关系数:\", correlation)\n",
    "print(\"p值:\", p_value)\n"
   ]
  },
  {
   "cell_type": "code",
   "execution_count": null,
   "metadata": {},
   "outputs": [],
   "source": []
  },
  {
   "cell_type": "markdown",
   "metadata": {},
   "source": [
    "----"
   ]
  },
  {
   "cell_type": "markdown",
   "metadata": {},
   "source": [
    "### 补充案例 $\\Phi$ 相关系数案例"
   ]
  },
  {
   "cell_type": "markdown",
   "metadata": {},
   "source": [
    "#### 性别与对待吸烟的态度之间的相关性\n",
    "   \n",
    "一项研究调查了不同性别的成年人对在公众场合吸烟的态度，结果如表所示。那么，性别与对待吸烟的态度之间的相关系数是（）.\n",
    "\n",
    "-|赞同|反对\n",
    "-|-|-\n",
    "男|15|10\n",
    "女|10|26\n",
    "\n",
    "\n",
    "\n",
    "A．0.12\n",
    "B．0.32\n",
    "C．0.48\n",
    "D．0.54"
   ]
  },
  {
   "cell_type": "markdown",
   "metadata": {},
   "source": [
    "#### φ相关系数的定义及公式"
   ]
  },
  {
   "cell_type": "markdown",
   "metadata": {},
   "source": [
    "问：φ相关系数的定义及公式：\n",
    "1.测度2×2列联表中数据相关程度\n",
    "\n",
    "2.对于2×2列联表，φ系数的值在0～1之间\n",
    "\n",
    "3. φ相关系数计算公式为\n",
    "\n",
    "\n",
    "\n",
    "\n",
    "\n",
    "\n",
    "#### φ相关系数\n",
    "$ \\phi = \\sqrt{\\frac{\\chi^{2}}{n}} $ \n",
    "n为实际频数的总个数，即样本容量\n",
    "\n",
    "$ \\chi^2 = \\sum \\frac{(O_{ij} - E_{ij})^2}{E_{ij}}$ \n",
    "\n",
    "其中，$\\chi^2$为卡方值，$O_{ij}$为观察值，$E_{ij}$为期望值。\n"
   ]
  },
  {
   "cell_type": "markdown",
   "metadata": {},
   "source": [
    "方法1 按公式手动计算$\\phi$"
   ]
  },
  {
   "cell_type": "code",
   "execution_count": 76,
   "metadata": {},
   "outputs": [],
   "source": [
    "a = 15\n",
    "b = 10\n",
    "c =10\n",
    "d =26\n",
    "\n",
    "observed = [[a, b],\n",
    "            [c, d]]"
   ]
  },
  {
   "cell_type": "code",
   "execution_count": 77,
   "metadata": {},
   "outputs": [
    {
     "data": {
      "text/plain": [
       "6.333456790123456"
      ]
     },
     "execution_count": 77,
     "metadata": {},
     "output_type": "execute_result"
    }
   ],
   "source": [
    "n = a + b + c + d\n",
    "chi = ((a*d - b*c)**2 * n) / ((a + b) * (c + d) * (a + c) * (b + d))\n",
    "chi"
   ]
  },
  {
   "cell_type": "code",
   "execution_count": 78,
   "metadata": {},
   "outputs": [
    {
     "data": {
      "text/plain": [
       "0.3222222222222222"
      ]
     },
     "execution_count": 78,
     "metadata": {},
     "output_type": "execute_result"
    }
   ],
   "source": [
    "phi = np.sqrt(chi/n)\n",
    "phi "
   ]
  },
  {
   "cell_type": "markdown",
   "metadata": {},
   "source": [
    "方法2：用scipy.stats里面的chi2_contingency计算$\\chi$值，再计算$\\phi$"
   ]
  },
  {
   "cell_type": "code",
   "execution_count": 79,
   "metadata": {},
   "outputs": [
    {
     "data": {
      "text/plain": [
       "array([[15, 10],\n",
       "       [10, 26]])"
      ]
     },
     "execution_count": 79,
     "metadata": {},
     "output_type": "execute_result"
    }
   ],
   "source": [
    "import numpy as np\n",
    "from scipy.stats import chi2_contingency\n",
    "\n",
    "observed = np.array([[15, 10],\n",
    "                     [10, 26]])\n",
    "observed"
   ]
  },
  {
   "cell_type": "code",
   "execution_count": 80,
   "metadata": {},
   "outputs": [
    {
     "data": {
      "text/plain": [
       "6.3334567901234555"
      ]
     },
     "execution_count": 80,
     "metadata": {},
     "output_type": "execute_result"
    }
   ],
   "source": [
    "chi2, p, dof, expected = chi2_contingency(observed,correction =False) # correction =False 通过设置correction参数来控制是否进行校正\n",
    "# 卡方值 \n",
    "# P值 \n",
    "# 自由度： \n",
    "# 与原数据数组同维度的对应期望值\n",
    "\n",
    "chi2"
   ]
  },
  {
   "cell_type": "code",
   "execution_count": 81,
   "metadata": {},
   "outputs": [
    {
     "name": "stdout",
     "output_type": "stream",
     "text": [
      "Phi相关系数: 0.3222222222222222\n"
     ]
    }
   ],
   "source": [
    "n = observed.sum()\n",
    "phi = np.sqrt(chi2 / n)\n",
    "\n",
    "print(\"Phi相关系数:\", phi)"
   ]
  },
  {
   "cell_type": "code",
   "execution_count": 82,
   "metadata": {},
   "outputs": [
    {
     "data": {
      "text/html": [
       "<div>\n",
       "<style scoped>\n",
       "    .dataframe tbody tr th:only-of-type {\n",
       "        vertical-align: middle;\n",
       "    }\n",
       "\n",
       "    .dataframe tbody tr th {\n",
       "        vertical-align: top;\n",
       "    }\n",
       "\n",
       "    .dataframe thead th {\n",
       "        text-align: right;\n",
       "    }\n",
       "</style>\n",
       "<table border=\"1\" class=\"dataframe\">\n",
       "  <thead>\n",
       "    <tr style=\"text-align: right;\">\n",
       "      <th></th>\n",
       "      <th>0</th>\n",
       "      <th>1</th>\n",
       "    </tr>\n",
       "  </thead>\n",
       "  <tbody>\n",
       "    <tr>\n",
       "      <th>0</th>\n",
       "      <td>15</td>\n",
       "      <td>10</td>\n",
       "    </tr>\n",
       "    <tr>\n",
       "      <th>1</th>\n",
       "      <td>10</td>\n",
       "      <td>26</td>\n",
       "    </tr>\n",
       "  </tbody>\n",
       "</table>\n",
       "</div>"
      ],
      "text/plain": [
       "    0   1\n",
       "0  15  10\n",
       "1  10  26"
      ]
     },
     "execution_count": 82,
     "metadata": {},
     "output_type": "execute_result"
    }
   ],
   "source": [
    "pd.DataFrame(observed)"
   ]
  },
  {
   "cell_type": "code",
   "execution_count": 83,
   "metadata": {},
   "outputs": [
    {
     "name": "stdout",
     "output_type": "stream",
     "text": [
      "Cramer's V: 0.5736373672101819\n",
      "p值: 0.1177856432784892\n"
     ]
    }
   ],
   "source": [
    "import pandas as pd\n",
    "import numpy as np\n",
    "from scipy.stats import chi2_contingency\n",
    "\n",
    "# 创建一个DataFrame来存储数据\n",
    "data = pd.DataFrame({\n",
    "    '教育水平': ['高中', '本科', '本科', '研究生', '高中', '本科', '研究生'],\n",
    "    '职业类型': ['技工', '技工', '白领', '白领', '技工', '白领', '白领']\n",
    "})\n",
    "\n",
    "# 创建一个列联表\n",
    "contingency_table = pd.crosstab(data['教育水平'], data['职业类型'])\n",
    "\n",
    "# 使用chi2_contingency函数进行卡方检验\n",
    "chi2, p_value, _, _ = chi2_contingency(contingency_table,correction =False)\n",
    "\n",
    "# 计算Cramer's V\n",
    "n = contingency_table.sum().sum()\n",
    "phi_corr = np.sqrt(chi2 / (n * min(contingency_table.shape) - 1))\n",
    "v = phi_corr / np.sqrt(min(contingency_table.shape) - 1)\n",
    "\n",
    "print(\"Cramer's V:\", v)\n",
    "print(\"p值:\", p_value)\n"
   ]
  },
  {
   "cell_type": "code",
   "execution_count": null,
   "metadata": {},
   "outputs": [],
   "source": []
  },
  {
   "cell_type": "markdown",
   "metadata": {},
   "source": [
    "[Pearson、Spearman、Kendall、Polychoric、Polyserial相关系数简介及R计算](https://mp.weixin.qq.com/s/5gZ3LvQ3pN8RZyMkNAxlMQ)"
   ]
  },
  {
   "cell_type": "markdown",
   "metadata": {},
   "source": [
    "[要做相关性分析，该如何选择正确的统计方法？](https://mp.weixin.qq.com/s?__biz=MzI2OTQyMzc5MA==&mid=2247507766&idx=1&sn=fa9db440c2fd8dac4586c2577f873e62&chksm=eae21af7dd9593e1f4a3a7ba506b3479e2e4e2f66d9a10504ae140218b1f2680076ff6544870&scene=27)"
   ]
  },
  {
   "cell_type": "markdown",
   "metadata": {},
   "source": [
    "[相关分析最全总结](https://zhuanlan.zhihu.com/p/396580986?utm_id=0)"
   ]
  },
  {
   "cell_type": "markdown",
   "metadata": {},
   "source": [
    "[Pearson、Spearman、Kendall、Polychoric、Polyserial相关系数简介及R计算](https://mp.weixin.qq.com/s/5gZ3LvQ3pN8RZyMkNAxlMQ)"
   ]
  },
  {
   "cell_type": "code",
   "execution_count": null,
   "metadata": {},
   "outputs": [],
   "source": []
  }
 ],
 "metadata": {
  "kernelspec": {
   "display_name": "Python 3",
   "language": "python",
   "name": "python3"
  },
  "language_info": {
   "codemirror_mode": {
    "name": "ipython",
    "version": 3
   },
   "file_extension": ".py",
   "mimetype": "text/x-python",
   "name": "python",
   "nbconvert_exporter": "python",
   "pygments_lexer": "ipython3",
   "version": "3.7.6"
  }
 },
 "nbformat": 4,
 "nbformat_minor": 4
}
