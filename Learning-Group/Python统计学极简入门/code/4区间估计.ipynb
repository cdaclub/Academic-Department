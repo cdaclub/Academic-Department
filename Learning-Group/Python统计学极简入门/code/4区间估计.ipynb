{
 "cells": [
  {
   "cell_type": "code",
   "execution_count": 8,
   "metadata": {},
   "outputs": [],
   "source": [
    "import numpy as np\n",
    "import scipy.stats\n",
    "from scipy import stats as sts\n",
    "\n",
    "\n",
    "def mean_interval(mean=None, sigma=None,std=None,n=None,confidence_coef=0.95):\n",
    "    \"\"\"\n",
    "    mean:样本均值\n",
    "    sigma: 总体标准差\n",
    "    std: 样本标准差\n",
    "    n:   样本量\n",
    "    confidence_coefficient：置信系数\n",
    "    confidence_level:置信水平 置信度\n",
    "    alpha:显著性水平\n",
    "    功能：构建总体均值的置信区间\n",
    "    \"\"\"\n",
    "    alpha = 1 - confidence_coef\n",
    "    z_score = scipy.stats.norm.isf(alpha / 2)            # z分布临界值\n",
    "    t_score = scipy.stats.t.isf(alpha / 2, df = (n-1) )  # t分布临界值\n",
    "   \n",
    "    if n >= 30: \n",
    "        if sigma != None:\n",
    "            me = z_score * sigma / np.sqrt(n)\n",
    "            print(\"大样本，总体 sigma 已知：z_score:\",z_score)\n",
    "        elif sigma == None:\n",
    "            me = z_score * std / np.sqrt(n)\n",
    "            print(\"大样本，总体 sigma 未知 z_score\",z_score)\n",
    "        lower_limit = mean - me\n",
    "        upper_limit = mean + me\n",
    "    if n < 30 :\n",
    "        if sigma != None:\n",
    "            me = z_score * sigma / np.sqrt(n)\n",
    "            print(\"小样本，总体 sigma 已知 z_score * sigma / np.sqrt(n) \\nz_score = \",z_score)\n",
    "        elif sigma == None:\n",
    "            me = t_score * std / np.sqrt(n)\n",
    "            print(\"小样本，总体 sigma 未知 t_score * std / np.sqrt(n) \\nt_score = \",t_score)\n",
    "        lower_limit = mean - me\n",
    "        upper_limit = mean + me\n",
    "    \n",
    "    return (round(lower_limit, 1), round(upper_limit, 1))"
   ]
  },
  {
   "cell_type": "markdown",
   "metadata": {},
   "source": [
    "网站流量UV区间估计:\n",
    "\n",
    "某网站近20天的流量uv数据如下，我们研究一下该网站的总体流量uv均值："
   ]
  },
  {
   "cell_type": "code",
   "execution_count": 9,
   "metadata": {},
   "outputs": [],
   "source": [
    "import numpy as np\n",
    "data = np.array([52,44,55,44,45,59,50,54,62,46,54,42,60,62,43,42,48,55,57,56])"
   ]
  },
  {
   "cell_type": "markdown",
   "metadata": {},
   "source": [
    "均值为"
   ]
  },
  {
   "cell_type": "code",
   "execution_count": 10,
   "metadata": {},
   "outputs": [
    {
     "data": {
      "text/plain": [
       "51.5"
      ]
     },
     "execution_count": 10,
     "metadata": {},
     "output_type": "execute_result"
    }
   ],
   "source": [
    "x_bar = data.mean()\n",
    "x_bar"
   ]
  },
  {
   "cell_type": "markdown",
   "metadata": {},
   "source": [
    "样本标准差为："
   ]
  },
  {
   "cell_type": "code",
   "execution_count": 11,
   "metadata": {},
   "outputs": [
    {
     "data": {
      "text/plain": [
       "6.840283158189472"
      ]
     },
     "execution_count": 11,
     "metadata": {},
     "output_type": "execute_result"
    }
   ],
   "source": [
    "x_std = sts.tstd(data,ddof = 1) #  ddof=1时,分母为n-1;ddof=0时,分母为n\n",
    "x_std"
   ]
  },
  {
   "cell_type": "code",
   "execution_count": 12,
   "metadata": {},
   "outputs": [
    {
     "name": "stdout",
     "output_type": "stream",
     "text": [
      "小样本，总体 sigma 未知 t_score * std / np.sqrt(n) \n",
      "t_score =  2.093024054408263\n"
     ]
    },
    {
     "data": {
      "text/plain": [
       "(48.3, 54.7)"
      ]
     },
     "execution_count": 12,
     "metadata": {},
     "output_type": "execute_result"
    }
   ],
   "source": [
    "mean_interval(mean=x_bar, sigma=None,std= x_std,  n=len(data), confidence_coef=0.95)"
   ]
  },
  {
   "cell_type": "markdown",
   "metadata": {},
   "source": [
    "于是我们有95%的把握，该网站的流量uv介于 `[48, 55]`之间"
   ]
  },
  {
   "cell_type": "code",
   "execution_count": 13,
   "metadata": {},
   "outputs": [],
   "source": [
    "def proportion_interval(p=None, n=None, confidence_coef =0.95):\n",
    "    \"\"\"\n",
    "    p: 样本比例\n",
    "    n: 样本量\n",
    "    confidence_coef: 置信系数\n",
    "    功能：构建总体比例的置信区间\n",
    "    \"\"\"\n",
    "    alpha = 1 - confidence_coef\n",
    "    z_score = scipy.stats.norm.isf(alpha / 2)  # z分布临界值\n",
    "    \n",
    "    me = z_score * np.sqrt((p * (1 - p)) / n) \n",
    "    lower_limit = p - me\n",
    "    upper_limit = p + me\n",
    "    \n",
    "    return (round(lower_limit, 4), round(upper_limit, 4))"
   ]
  },
  {
   "cell_type": "code",
   "execution_count": 14,
   "metadata": {},
   "outputs": [
    {
     "data": {
      "text/plain": [
       "(0.7564, 0.8276)"
      ]
     },
     "execution_count": 14,
     "metadata": {},
     "output_type": "execute_result"
    }
   ],
   "source": [
    "p = 396/500\n",
    "n = 500\n",
    "proportion_interval(p=p, n=n, confidence_coef =0.95)"
   ]
  }
 ],
 "metadata": {
  "kernelspec": {
   "display_name": "Python 3",
   "language": "python",
   "name": "python3"
  },
  "language_info": {
   "codemirror_mode": {
    "name": "ipython",
    "version": 3
   },
   "file_extension": ".py",
   "mimetype": "text/x-python",
   "name": "python",
   "nbconvert_exporter": "python",
   "pygments_lexer": "ipython3",
   "version": "3.7.6"
  }
 },
 "nbformat": 4,
 "nbformat_minor": 4
}
