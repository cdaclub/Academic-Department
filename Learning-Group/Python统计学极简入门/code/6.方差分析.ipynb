{
 "cells": [
  {
   "cell_type": "markdown",
   "metadata": {},
   "source": [
    "#### 单因素多水平方差分析"
   ]
  },
  {
   "cell_type": "markdown",
   "metadata": {},
   "source": [
    "**例6.1 不同装配方式对生产的过滤系统数量的差异性检验** \n",
    "\n",
    "某城市过滤水系统生产公司，有A、B、C3种方式进行过滤水系统的装配，该公司为了研究三种装配方式生产的过滤系统数量是否有差异，从全体装配工人中抽取了15名工人，然后随机地指派一种装配方式，这样每个装配方式就有5个工人。在指派装配方法和培训工作都完成后，一周内对每名工人的装配过滤系统数量进行统计如下：\n",
    "\n",
    "方法A|方法B|方法C\n",
    "- |- |- \n",
    "58|58|48\n",
    "64|69|57\n",
    "55|71|59\n",
    "66|64|47\n",
    "67|68|49\n",
    "\n",
    "请根据数据判断3种装配方式有无差异"
   ]
  },
  {
   "cell_type": "markdown",
   "metadata": {},
   "source": [
    "分析过程：由于目标是判断3种装配方式有无差异，多样本的检验用方差分析\n",
    "\n",
    "于是我们有了原假设和备择假设\n",
    "\n",
    "$H_0: \\mu_1 = \\mu_2 = \\mu_3  \\leftrightarrow  H_1$:均值不全相等"
   ]
  },
  {
   "cell_type": "code",
   "execution_count": 1,
   "metadata": {},
   "outputs": [
    {
     "name": "stdout",
     "output_type": "stream",
     "text": [
      "F_value: 9.176470588235295\n",
      "p_value: 0.0038184120755124806\n"
     ]
    }
   ],
   "source": [
    "import pandas as pd\n",
    "import numpy as np\n",
    "from scipy import stats\n",
    "\n",
    "# 数据\n",
    "A = [58,64,55,66,67]\n",
    "B = [58,69,71,64,68]\n",
    "C = [48,57,59,47,49]\n",
    "\n",
    "data = [A, B, C]\n",
    "# 方差的齐性检验\n",
    "w, p = stats.levene(*data)\n",
    "if p < 0.05:\n",
    "    print('方差齐性假设不成立')\n",
    " \n",
    " \n",
    "# 成立之后， 就可以进行单因素方差分析\n",
    "f_value, p_value = stats.f_oneway(*data)\n",
    "# 输出结果\n",
    "print(\"F_value:\", f_value)\n",
    "print(\"p_value:\", p_value)\n"
   ]
  },
  {
   "cell_type": "markdown",
   "metadata": {},
   "source": [
    "**结论** 选择显著性水平 0.05 的话，`p = 0.0038 < 0.05`，故拒绝原假设。支持三种装配方式装配数量均值不全相等的备则假设。"
   ]
  },
  {
   "cell_type": "markdown",
   "metadata": {},
   "source": [
    "**例6.2 不同优惠金额对购买转化率的差异性检验** \n",
    "\n",
    "某公司营销中心为了提升销量，针对某产品设计了3种不同金额的优惠，想测试三种优惠方式对于用户的购买转化率是否有显著影响，先收集到了三种不同方式在6个月内的转化率数据\n",
    "\n",
    "\n",
    "优惠A|优惠B|优惠C\n",
    "- |- |- \n",
    "0.043 |0.05  | 0.048 \n",
    "0.047 |0.048 | 0.05  \n",
    "0.051 |0.045 | 0.047 \n",
    "0.049 |0.055 | 0.056 \n",
    "0.045 |0.048 | 0.054 \n",
    "0.0469|0.0491| 0.0509\n",
    "\n",
    "\n",
    "请根据数据判断3种不同优惠金额的转化率有无差异"
   ]
  },
  {
   "cell_type": "code",
   "execution_count": 2,
   "metadata": {},
   "outputs": [
    {
     "name": "stdout",
     "output_type": "stream",
     "text": [
      "F_value: 2.332956563862427\n",
      "p_value: 0.13116820340181937\n"
     ]
    }
   ],
   "source": [
    "import pandas as pd\n",
    "import numpy as np\n",
    "from scipy import stats\n",
    "\n",
    "A = [0.043 , 0.047 , 0.051 , 0.049 , 0.045 , 0.0469]\n",
    "B = [0.05  , 0.048 , 0.045 , 0.055 , 0.048 , 0.0491]\n",
    "C = [0.048 , 0.05  , 0.047 , 0.056 , 0.054 , 0.0509]\n",
    "\n",
    "\n",
    "data = [A, B, C]\n",
    "# 方差的齐性检验\n",
    "w, p = stats.levene(*data)\n",
    "if p < 0.05:\n",
    "    print('方差齐性假设不成立')\n",
    " \n",
    " \n",
    "# 成立之后， 就可以进行单因素方差分析\n",
    "f_value, p_value = stats.f_oneway(*data)\n",
    "# 输出结果\n",
    "print(\"F_value:\", f_value)\n",
    "print(\"p_value:\", p_value)"
   ]
  },
  {
   "cell_type": "markdown",
   "metadata": {},
   "source": [
    "分析过程：由于目标是判断3种不同金额的优惠券对于转化率有无差异，多样本的检验用方差分析\n",
    "\n",
    "于是我们有了原假设和备择假设\n"
   ]
  },
  {
   "cell_type": "markdown",
   "metadata": {},
   "source": [
    "$H_0: \\mu_1 = \\mu_2 = \\mu_3  \\leftrightarrow  H_1$:认为这几组之间的购买率不一样"
   ]
  },
  {
   "cell_type": "markdown",
   "metadata": {},
   "source": [
    "P < 0.05 拒绝原假设，倾向于支持不同优惠金额购买率不一样的备择假设。认为不同优惠金额会对购买率产生影响\n",
    "\n",
    "P > 0.05 无法拒绝原假设。认为不同优惠金额不会对购买率产生影响"
   ]
  },
  {
   "cell_type": "markdown",
   "metadata": {},
   "source": [
    "**结论** 选择显著性水平 0.05 的话，`p = 0.1311 > 0.05`，故无法拒绝原假设。认为不同优惠金额不会对购买率产生影响"
   ]
  },
  {
   "cell_type": "markdown",
   "metadata": {},
   "source": [
    "#### 双因素方差分析\n",
    "\n",
    "#### 1.双因素方差分析（等重复实验）"
   ]
  },
  {
   "cell_type": "markdown",
   "metadata": {},
   "source": [
    "> 这里的等重复实验，意思就是针对每个组合做大于等于两次的实验，比如下方例子中表里A1和B1的组合里面有2个数字，即说明做了两次实验，如果是3个数字则说明3次实验，依次类推。"
   ]
  },
  {
   "cell_type": "markdown",
   "metadata": {},
   "source": [
    "**例6.3 不同燃料种类和推进器的火箭射程差异性检验** \n",
    "\n",
    "火箭的射程与燃料的种类和推进器的型号有关，现对四种不同的燃料与三种不同型号的推进器进行试验，每种组合各发射火箭两次，测得火箭的射程如表（以海里计）（设显著性水平为0.05）"
   ]
  },
  {
   "cell_type": "markdown",
   "metadata": {},
   "source": [
    "燃料|B1  |     B2      |     B3 \n",
    "-|-|-|-\n",
    "A1     | 58.2 , 52.6 | 56.2 , 41.2 | 65.3 , 60.8\n",
    "A2     | 49.1 , 42.8 | 54.1 , 50.5 | 51.6 , 48.4\n",
    "A3     | 60.1 , 58.3 | 70.9 , 73.2 | 39.2 , 40.7\n",
    "A4     | 75.8 , 71.5 | 58.2 , 51.0 | 48.7 , 41.0"
   ]
  },
  {
   "cell_type": "code",
   "execution_count": 1,
   "metadata": {},
   "outputs": [],
   "source": [
    "import numpy as np\n",
    "import pandas as pd \n",
    "\n",
    "d = np.array([[58.2, 52.6, 56.2, 41.2, 65.3, 60.8],\n",
    "    [49.1, 42.8, 54.1, 50.5, 51.6, 48.4],\n",
    "    [60.1, 58.3, 70.9, 73.2, 39.2, 40.7],\n",
    "    [75.8, 71.5, 58.2, 51.0, 48.7,41.4]\n",
    "])\n",
    "data = pd.DataFrame(d)\n",
    "data.index=pd.Index(['A1','A2','A3','A4'],name='燃料')\n",
    "data.columns=pd.Index(['B1','B1','B2','B2','B3','B3'],name='推进器')"
   ]
  },
  {
   "cell_type": "code",
   "execution_count": 2,
   "metadata": {},
   "outputs": [],
   "source": [
    "data = data.reset_index().melt(id_vars =['燃料'])\n",
    "data = data.rename(columns={'value':'射程'})"
   ]
  },
  {
   "cell_type": "code",
   "execution_count": 3,
   "metadata": {},
   "outputs": [
    {
     "data": {
      "text/plain": [
       "'|    | 燃料   | 推进器   |   射程 |\\n|---:|:-------|:---------|-------:|\\n| 15 | A4     | B2       |   51   |\\n|  1 | A2     | B1       |   49.1 |\\n|  0 | A1     | B1       |   58.2 |\\n| 22 | A3     | B3       |   40.7 |\\n|  2 | A3     | B1       |   60.1 |'"
      ]
     },
     "execution_count": 3,
     "metadata": {},
     "output_type": "execute_result"
    }
   ],
   "source": [
    "data.sample(5).to_markdown()"
   ]
  },
  {
   "cell_type": "code",
   "execution_count": 4,
   "metadata": {},
   "outputs": [
    {
     "data": {
      "text/html": [
       "<div>\n",
       "<style scoped>\n",
       "    .dataframe tbody tr th:only-of-type {\n",
       "        vertical-align: middle;\n",
       "    }\n",
       "\n",
       "    .dataframe tbody tr th {\n",
       "        vertical-align: top;\n",
       "    }\n",
       "\n",
       "    .dataframe thead th {\n",
       "        text-align: right;\n",
       "    }\n",
       "</style>\n",
       "<table border=\"1\" class=\"dataframe\">\n",
       "  <thead>\n",
       "    <tr style=\"text-align: right;\">\n",
       "      <th></th>\n",
       "      <th>sum_sq</th>\n",
       "      <th>df</th>\n",
       "      <th>F</th>\n",
       "      <th>PR(&gt;F)</th>\n",
       "    </tr>\n",
       "  </thead>\n",
       "  <tbody>\n",
       "    <tr>\n",
       "      <th>C(燃料)</th>\n",
       "      <td>261.675000</td>\n",
       "      <td>3.0</td>\n",
       "      <td>4.417388</td>\n",
       "      <td>0.025969</td>\n",
       "    </tr>\n",
       "    <tr>\n",
       "      <th>C(推进器)</th>\n",
       "      <td>370.980833</td>\n",
       "      <td>2.0</td>\n",
       "      <td>9.393902</td>\n",
       "      <td>0.003506</td>\n",
       "    </tr>\n",
       "    <tr>\n",
       "      <th>C(燃料):C(推进器)</th>\n",
       "      <td>1768.692500</td>\n",
       "      <td>6.0</td>\n",
       "      <td>14.928825</td>\n",
       "      <td>0.000062</td>\n",
       "    </tr>\n",
       "    <tr>\n",
       "      <th>Residual</th>\n",
       "      <td>236.950000</td>\n",
       "      <td>12.0</td>\n",
       "      <td>NaN</td>\n",
       "      <td>NaN</td>\n",
       "    </tr>\n",
       "  </tbody>\n",
       "</table>\n",
       "</div>"
      ],
      "text/plain": [
       "                   sum_sq    df          F    PR(>F)\n",
       "C(燃料)          261.675000   3.0   4.417388  0.025969\n",
       "C(推进器)         370.980833   2.0   9.393902  0.003506\n",
       "C(燃料):C(推进器)  1768.692500   6.0  14.928825  0.000062\n",
       "Residual       236.950000  12.0        NaN       NaN"
      ]
     },
     "execution_count": 4,
     "metadata": {},
     "output_type": "execute_result"
    }
   ],
   "source": [
    "import statsmodels.api as sm\n",
    "from statsmodels.formula.api import ols\n",
    "\n",
    "# 进行双因素方差分析\n",
    "model = ols('射程~C(燃料) + C(推进器)+C(燃料):C(推进器)', data =data).fit()\n",
    "# 打印方差分析表\n",
    "anova_table = sm.stats.anova_lm(model, typ=2)\n",
    "anova_table"
   ]
  },
  {
   "cell_type": "code",
   "execution_count": 13,
   "metadata": {},
   "outputs": [],
   "source": [
    "# anova_table.to_markdown()"
   ]
  },
  {
   "cell_type": "markdown",
   "metadata": {},
   "source": [
    "**结论:**\n",
    "\n",
    "对燃料因素来说，其`p = 0.0259 < 0.05`  所以拒绝$H_{01}$，认为燃料对射程影响显著；\n",
    "\n",
    "对推进器因素来说，其`p = 0.0035 < 0.05`,所以拒绝$H_{02}$，认为推进器对射程影响显著；\n",
    "\n",
    "对燃料和推进器的交互因素来说，其`p = 0.000062< 0.05 `,所以拒绝$H_{03}$，认为交互因素其对射程影响显著。"
   ]
  },
  {
   "cell_type": "markdown",
   "metadata": {},
   "source": [
    "#### 2.双因素方差分析（无重复实验）"
   ]
  },
  {
   "cell_type": "markdown",
   "metadata": {},
   "source": [
    "在等重复实验中，我们为了检验实验中两个因素的交互作用，针对每对组合至少要做2次以上实验，才能够将交互作用与误差分离开来，在处理实际问题时候，如果我们一直不存在交互作用，或者交互作用对实验指标影响极小，则可以不考虑交互作用，此时每对组合只做一次实验，类似下方例子中的表中数据："
   ]
  },
  {
   "cell_type": "markdown",
   "metadata": {},
   "source": [
    "**例6.3 不同时间、不同地点颗粒状物含量差异性检验 无重复实验** \n",
    "\n",
    "下面给出了在5个不同地点、不同时间空气中的颗粒状物(单位：mg/m°)含 量的数据记录于表中，试在显著性水平$\\alpha = 0.05$下检验不同时间、不同地点颗粒状物含量有无显著差异？（假设两者没有交互作用〉"
   ]
  },
  {
   "cell_type": "markdown",
   "metadata": {},
   "source": [
    "<table>\n",
    "    <tr> <!-- 第一行数据 -->\n",
    "        <th colspan=\"7\">因素B -地点 </th> <!-- 表头，用于居中显示；合并 7 行为 CBW 数据封包 -->\n",
    "    </tr>\n",
    "    <tr> <!-- 第二行数据 -->\n",
    "        <th rowspan=\"5\"> 因素A - 时间 </th> <!-- 表头，用于居中显示；合并 2 行为 字节 -->\n",
    "    </tr>\n",
    "    <tr> <!-- 第3-1行数据 -->\n",
    "    <td> 1995年10月 </td>\n",
    "    <td> 76 </td>\n",
    "    <td> 67 </td>\n",
    "    <td> 81 </td>\n",
    "    <td> 56 </td>\n",
    "    <td> 51 </td>\n",
    "    <tr> <!-- 第3-2行数据 -->\n",
    "    <td> 1996年01月 </td>\n",
    "    <td> 82 </td>\n",
    "    <td> 69 </td>\n",
    "    <td> 96 </td>\n",
    "    <td> 59 </td>\n",
    "    <td> 70 </td>\n",
    "    <tr> <!-- 第3-3行数据 -->\n",
    "    <td> 1996年05月 </td>\n",
    "    <td> 68 </td>\n",
    "    <td> 59 </td>\n",
    "    <td> 67 </td>\n",
    "    <td> 54 </td>\n",
    "    <td> 42 </td>\n",
    "    <tr> <!-- 第3-4行数据 -->\n",
    "    <td> 1996年08月 </td>\n",
    "    <td> 63 </td>\n",
    "    <td> 56 </td>\n",
    "    <td> 64 </td>\n",
    "    <td> 58 </td>\n",
    "    <td> 37 </td>        \n",
    "    </tr>\n",
    "</table>"
   ]
  },
  {
   "cell_type": "code",
   "execution_count": 6,
   "metadata": {},
   "outputs": [],
   "source": [
    "import numpy as np\n",
    "import pandas as pd \n",
    "\n",
    "d = np.array([\n",
    "    [76,67,81,56,51],\n",
    "    [82,69,96,59,70],\n",
    "    [68,59,67,54,42],\n",
    "    [63,56,64,58,37]])\n",
    "data = pd.DataFrame(d)\n",
    "data.index=pd.Index(['1995年10月','1996年01月','1996年05月','1996年08月'],name='时间')\n",
    "data.columns=pd.Index(['B1','B2','B3','B4','B5'],name='地点')"
   ]
  },
  {
   "cell_type": "code",
   "execution_count": 7,
   "metadata": {},
   "outputs": [],
   "source": [
    "data = data.reset_index().melt(id_vars =['时间'])\n",
    "data = data.rename(columns={'value':'颗粒状物含量'})"
   ]
  },
  {
   "cell_type": "code",
   "execution_count": 8,
   "metadata": {},
   "outputs": [
    {
     "data": {
      "text/html": [
       "<div>\n",
       "<style scoped>\n",
       "    .dataframe tbody tr th:only-of-type {\n",
       "        vertical-align: middle;\n",
       "    }\n",
       "\n",
       "    .dataframe tbody tr th {\n",
       "        vertical-align: top;\n",
       "    }\n",
       "\n",
       "    .dataframe thead th {\n",
       "        text-align: right;\n",
       "    }\n",
       "</style>\n",
       "<table border=\"1\" class=\"dataframe\">\n",
       "  <thead>\n",
       "    <tr style=\"text-align: right;\">\n",
       "      <th></th>\n",
       "      <th>时间</th>\n",
       "      <th>地点</th>\n",
       "      <th>颗粒状物含量</th>\n",
       "    </tr>\n",
       "  </thead>\n",
       "  <tbody>\n",
       "    <tr>\n",
       "      <th>8</th>\n",
       "      <td>1995年10月</td>\n",
       "      <td>B3</td>\n",
       "      <td>81</td>\n",
       "    </tr>\n",
       "    <tr>\n",
       "      <th>15</th>\n",
       "      <td>1996年08月</td>\n",
       "      <td>B4</td>\n",
       "      <td>58</td>\n",
       "    </tr>\n",
       "    <tr>\n",
       "      <th>4</th>\n",
       "      <td>1995年10月</td>\n",
       "      <td>B2</td>\n",
       "      <td>67</td>\n",
       "    </tr>\n",
       "    <tr>\n",
       "      <th>0</th>\n",
       "      <td>1995年10月</td>\n",
       "      <td>B1</td>\n",
       "      <td>76</td>\n",
       "    </tr>\n",
       "    <tr>\n",
       "      <th>10</th>\n",
       "      <td>1996年05月</td>\n",
       "      <td>B3</td>\n",
       "      <td>67</td>\n",
       "    </tr>\n",
       "  </tbody>\n",
       "</table>\n",
       "</div>"
      ],
      "text/plain": [
       "          时间  地点  颗粒状物含量\n",
       "8   1995年10月  B3      81\n",
       "15  1996年08月  B4      58\n",
       "4   1995年10月  B2      67\n",
       "0   1995年10月  B1      76\n",
       "10  1996年05月  B3      67"
      ]
     },
     "execution_count": 8,
     "metadata": {},
     "output_type": "execute_result"
    }
   ],
   "source": [
    "data.sample(5)"
   ]
  },
  {
   "cell_type": "code",
   "execution_count": 9,
   "metadata": {},
   "outputs": [
    {
     "data": {
      "text/html": [
       "<div>\n",
       "<style scoped>\n",
       "    .dataframe tbody tr th:only-of-type {\n",
       "        vertical-align: middle;\n",
       "    }\n",
       "\n",
       "    .dataframe tbody tr th {\n",
       "        vertical-align: top;\n",
       "    }\n",
       "\n",
       "    .dataframe thead th {\n",
       "        text-align: right;\n",
       "    }\n",
       "</style>\n",
       "<table border=\"1\" class=\"dataframe\">\n",
       "  <thead>\n",
       "    <tr style=\"text-align: right;\">\n",
       "      <th></th>\n",
       "      <th>sum_sq</th>\n",
       "      <th>df</th>\n",
       "      <th>F</th>\n",
       "      <th>PR(&gt;F)</th>\n",
       "    </tr>\n",
       "  </thead>\n",
       "  <tbody>\n",
       "    <tr>\n",
       "      <th>C(时间)</th>\n",
       "      <td>1182.95</td>\n",
       "      <td>3.0</td>\n",
       "      <td>10.722411</td>\n",
       "      <td>0.001033</td>\n",
       "    </tr>\n",
       "    <tr>\n",
       "      <th>C(地点)</th>\n",
       "      <td>1947.50</td>\n",
       "      <td>4.0</td>\n",
       "      <td>13.239293</td>\n",
       "      <td>0.000234</td>\n",
       "    </tr>\n",
       "    <tr>\n",
       "      <th>Residual</th>\n",
       "      <td>441.30</td>\n",
       "      <td>12.0</td>\n",
       "      <td>NaN</td>\n",
       "      <td>NaN</td>\n",
       "    </tr>\n",
       "  </tbody>\n",
       "</table>\n",
       "</div>"
      ],
      "text/plain": [
       "           sum_sq    df          F    PR(>F)\n",
       "C(时间)     1182.95   3.0  10.722411  0.001033\n",
       "C(地点)     1947.50   4.0  13.239293  0.000234\n",
       "Residual   441.30  12.0        NaN       NaN"
      ]
     },
     "execution_count": 9,
     "metadata": {},
     "output_type": "execute_result"
    }
   ],
   "source": [
    "import statsmodels.api as sm\n",
    "from statsmodels.formula.api import ols\n",
    "\n",
    "# 进行双因素方差分析\n",
    "model = ols('颗粒状物含量~C(时间) + C(地点)', data =data).fit()\n",
    "# 打印方差分析表\n",
    "anova_table = sm.stats.anova_lm(model, typ=2)\n",
    "anova_table"
   ]
  },
  {
   "cell_type": "code",
   "execution_count": 12,
   "metadata": {},
   "outputs": [],
   "source": [
    "# anova_table#.to_markdown()"
   ]
  },
  {
   "cell_type": "markdown",
   "metadata": {},
   "source": [
    "**结论:**\n",
    "\n",
    "\n",
    "对时间因素来说，其`p = 0.001033 < 0.05`  所以拒绝$H_{01}$，认为时间对颗粒状物含量影响显著；\n",
    "\n",
    "对地点因素来说，其`p = 0.000234 < 0.05`,所以拒绝$H_{02}$，认为地点对颗粒状物含量影响显著；\n"
   ]
  },
  {
   "cell_type": "code",
   "execution_count": null,
   "metadata": {},
   "outputs": [],
   "source": []
  },
  {
   "cell_type": "code",
   "execution_count": null,
   "metadata": {},
   "outputs": [],
   "source": []
  }
 ],
 "metadata": {
  "kernelspec": {
   "display_name": "Python 3",
   "language": "python",
   "name": "python3"
  },
  "language_info": {
   "codemirror_mode": {
    "name": "ipython",
    "version": 3
   },
   "file_extension": ".py",
   "mimetype": "text/x-python",
   "name": "python",
   "nbconvert_exporter": "python",
   "pygments_lexer": "ipython3",
   "version": "3.7.6"
  }
 },
 "nbformat": 4,
 "nbformat_minor": 4
}
