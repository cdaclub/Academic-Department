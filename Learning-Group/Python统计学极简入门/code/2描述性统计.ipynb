{
 "cells": [
  {
   "cell_type": "code",
   "execution_count": 167,
   "metadata": {},
   "outputs": [
    {
     "name": "stdout",
     "output_type": "stream",
     "text": [
      "12.375\n"
     ]
    }
   ],
   "source": [
    "## 使用 numpy 库里的 mean 函数\n",
    "import numpy as np\n",
    "data =  [2,23,4,17,12,12,13,16]\n",
    "print(np.mean(data))"
   ]
  },
  {
   "cell_type": "code",
   "execution_count": 168,
   "metadata": {},
   "outputs": [
    {
     "name": "stdout",
     "output_type": "stream",
     "text": [
      "9.918855683110795\n"
     ]
    }
   ],
   "source": [
    "# 使用 scipy 库里的 gmean 函数求几何平均数\n",
    "from scipy import stats as sts\n",
    "data = [2,23,4,17,12,12,13,16]\n",
    "print(sts.gmean(data))"
   ]
  },
  {
   "cell_type": "code",
   "execution_count": 169,
   "metadata": {},
   "outputs": [
    {
     "name": "stdout",
     "output_type": "stream",
     "text": [
      "6.906127821278071\n"
     ]
    }
   ],
   "source": [
    "# 使用 scipy 库里的 hmean 函数求调和平均数\n",
    "from scipy import stats as sts\n",
    "data = [2,23,4,17,12,12,13,16]\n",
    "print(sts.hmean(data))"
   ]
  },
  {
   "cell_type": "code",
   "execution_count": 170,
   "metadata": {},
   "outputs": [
    {
     "name": "stdout",
     "output_type": "stream",
     "text": [
      "12.5\n"
     ]
    }
   ],
   "source": [
    "# 使用 numpy 库里的 median 函数求调和平均数\n",
    "import numpy as np\n",
    "data =  [2,23,4,17,12,12,13,16]\n",
    "print(np.median(data))"
   ]
  },
  {
   "cell_type": "code",
   "execution_count": 171,
   "metadata": {},
   "outputs": [
    {
     "name": "stdout",
     "output_type": "stream",
     "text": [
      "ModeResult(mode=array([12]), count=array([2]))\n"
     ]
    }
   ],
   "source": [
    "# 使用 scipy 库里的 mode 函数求众数\n",
    "from scipy import stats as sts\n",
    "data =  [2,23,4,17,12,12,13,16]\n",
    "print(sts.mode(data))"
   ]
  },
  {
   "cell_type": "code",
   "execution_count": 172,
   "metadata": {},
   "outputs": [
    {
     "name": "stdout",
     "output_type": "stream",
     "text": [
      "10.0\n",
      "16.25\n"
     ]
    }
   ],
   "source": [
    "from scipy import stats as sts  \n",
    "data =  [2,23,4,17,12,12,13,16]\n",
    "print(sts.scoreatpercentile(data,25)) #25分位数\n",
    "print(sts.scoreatpercentile(data,75)) #75分位数"
   ]
  },
  {
   "cell_type": "code",
   "execution_count": 173,
   "metadata": {},
   "outputs": [
    {
     "data": {
      "text/plain": [
       "<AxesSubplot:>"
      ]
     },
     "execution_count": 173,
     "metadata": {},
     "output_type": "execute_result"
    },
    {
     "data": {
      "image/png": "[encoded data removed]",
      "text/plain": [
       "<Figure size 432x288 with 1 Axes>"
      ]
     },
     "metadata": {
      "needs_background": "light"
     },
     "output_type": "display_data"
    }
   ],
   "source": [
    "import seaborn as sns\n",
    "data = [2,23,4,17,12,12,13,16]\n",
    "# 使用sns.boxplot()函数绘制箱线图\n",
    "sns.boxplot(data=data)"
   ]
  },
  {
   "cell_type": "code",
   "execution_count": 174,
   "metadata": {},
   "outputs": [
    {
     "name": "stdout",
     "output_type": "stream",
     "text": [
      "21\n"
     ]
    }
   ],
   "source": [
    "# 极差\n",
    "import numpy as np\n",
    "data =  [2,23,4,17,12,12,13,16]\n",
    "print(np.ptp(data))"
   ]
  },
  {
   "cell_type": "code",
   "execution_count": 175,
   "metadata": {},
   "outputs": [
    {
     "name": "stdout",
     "output_type": "stream",
     "text": [
      "6.25\n"
     ]
    }
   ],
   "source": [
    "# 四分位距\n",
    "from scipy import stats as sts\n",
    "data =  [2,23,4,17,12,12,13,16]\n",
    "print(sts.scoreatpercentile(data,75)-sts.scoreatpercentile(data,25))\n"
   ]
  },
  {
   "cell_type": "code",
   "execution_count": 176,
   "metadata": {},
   "outputs": [
    {
     "name": "stdout",
     "output_type": "stream",
     "text": [
      "46.55357142857143\n"
     ]
    }
   ],
   "source": [
    "# 方差\n",
    "from scipy import stats as sts\n",
    "data =  [2,23,4,17,12,12,13,16]\n",
    "print(sts.tvar(data,ddof = 1))# ddof=1时,分母为n-1 样本方差 s² ;ddof=0时,分母为n 总体方差 σ²"
   ]
  },
  {
   "cell_type": "code",
   "execution_count": 177,
   "metadata": {},
   "outputs": [
    {
     "data": {
      "text/plain": [
       "6.823017765517794"
      ]
     },
     "execution_count": 177,
     "metadata": {},
     "output_type": "execute_result"
    }
   ],
   "source": [
    "# 手动计算样本标准差\n",
    "np.sqrt(((data - np.array(data).mean())**2).sum()/(len(data)-1)) # 分母为n-1"
   ]
  },
  {
   "cell_type": "code",
   "execution_count": 178,
   "metadata": {},
   "outputs": [
    {
     "data": {
      "text/plain": [
       "6.382348705609871"
      ]
     },
     "execution_count": 178,
     "metadata": {},
     "output_type": "execute_result"
    }
   ],
   "source": [
    "# 手动计算总体标准差 \n",
    "np.sqrt(((data - np.array(data).mean())**2).sum()/len(data))# 分母为n"
   ]
  },
  {
   "cell_type": "code",
   "execution_count": 179,
   "metadata": {},
   "outputs": [
    {
     "name": "stdout",
     "output_type": "stream",
     "text": [
      "6.823017765517794\n"
     ]
    }
   ],
   "source": [
    "# scipy计算标准差\n",
    "from scipy import stats as sts\n",
    "data = [2,23,4,17,12,12,13,16]\n",
    "print(sts.tstd(data,ddof = 1))# ddof=1时,分母为n-1 样本标准差 s ;ddof=0时,分母为n 总体标准差 σ"
   ]
  },
  {
   "cell_type": "markdown",
   "metadata": {},
   "source": [
    "- `numpy.std() `\n",
    "默认是除以 $n$ 的 即是有偏的; numpy.std(ddof=1) 加入参数可以计算无偏的\n",
    "- `pandas.std() `\n",
    "默认是除以 $n-1$ 的 即是无偏的; pandas.std(ddof=0) 加上参数可以计算有偏的"
   ]
  },
  {
   "cell_type": "code",
   "execution_count": 180,
   "metadata": {},
   "outputs": [
    {
     "name": "stdout",
     "output_type": "stream",
     "text": [
      "有偏（n） 6.382348705609871 无偏（n-1） 6.823017765517794\n"
     ]
    }
   ],
   "source": [
    "# Numpy计算标准差\n",
    "print('有偏（n）',np.std(data) ,'无偏（n-1）',np.std(data,ddof = 1))"
   ]
  },
  {
   "cell_type": "code",
   "execution_count": 181,
   "metadata": {},
   "outputs": [
    {
     "name": "stdout",
     "output_type": "stream",
     "text": [
      "有偏（n） 6.382348705609871 无偏（n-1） 6.823017765517794\n"
     ]
    }
   ],
   "source": [
    "import pandas as pd\n",
    "# Pandas计算标准差\n",
    "print('有偏（n）',pd.Series(data).std(ddof=0) ,'无偏（n-1）',pd.Series(data).std(ddof=1))"
   ]
  },
  {
   "cell_type": "code",
   "execution_count": null,
   "metadata": {},
   "outputs": [],
   "source": []
  },
  {
   "cell_type": "code",
   "execution_count": null,
   "metadata": {},
   "outputs": [],
   "source": []
  },
  {
   "cell_type": "code",
   "execution_count": 182,
   "metadata": {},
   "outputs": [
    {
     "name": "stdout",
     "output_type": "stream",
     "text": [
      "0.5513549709509329\n"
     ]
    }
   ],
   "source": [
    "# 变异系数： \n",
    "from scipy import stats as sts\n",
    "data = [2,23,4,17,12,12,13,16]\n",
    "print(sts.tstd(data)/sts.tmean(data))\n",
    "# 0.5513549709509329"
   ]
  },
  {
   "cell_type": "code",
   "execution_count": 183,
   "metadata": {},
   "outputs": [
    {
     "name": "stdout",
     "output_type": "stream",
     "text": [
      "-0.21470003988916822\n"
     ]
    }
   ],
   "source": [
    "# 偏度\n",
    "from scipy import stats as sts\n",
    "data = [2,23,4,17,12,12,13,16]\n",
    "print(sts.skew(data,bias=False)) # bias=False 代表计算的是总体偏度，bias=True 代表计算的是样本偏度"
   ]
  },
  {
   "cell_type": "code",
   "execution_count": 184,
   "metadata": {},
   "outputs": [
    {
     "name": "stdout",
     "output_type": "stream",
     "text": [
      "-0.17282884047242897\n"
     ]
    }
   ],
   "source": [
    "# 峰度\n",
    "from scipy import stats as sts\n",
    "data = [2,23,4,17,12,12,13,16]\n",
    "print(sts.kurtosis(data,bias=False)) # bias=False 代表计算的是总体峰度，bias=True 代表计算的是样本峰度"
   ]
  },
  {
   "cell_type": "code",
   "execution_count": null,
   "metadata": {},
   "outputs": [],
   "source": []
  }
 ],
 "metadata": {
  "kernelspec": {
   "display_name": "Python 3",
   "language": "python",
   "name": "python3"
  },
  "language_info": {
   "codemirror_mode": {
    "name": "ipython",
    "version": 3
   },
   "file_extension": ".py",
   "mimetype": "text/x-python",
   "name": "python",
   "nbconvert_exporter": "python",
   "pygments_lexer": "ipython3",
   "version": "3.7.6"
  }
 },
 "nbformat": 4,
 "nbformat_minor": 4
}
