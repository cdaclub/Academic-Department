{
 "cells": [
  {
   "cell_type": "code",
   "execution_count": 1,
   "metadata": {},
   "outputs": [
    {
     "name": "stdout",
     "output_type": "stream",
     "text": [
      "年平均增长率为: 2.9275463362004928\n"
     ]
    }
   ],
   "source": [
    "import numpy as np\n",
    "from scipy import stats as sts\n",
    "\n",
    "# 假设有一个基金的年回报率\n",
    "annual_returns = [-22.1, 28.7, 10.9, 4.9,15.8,5.5,-37,26.5,15.1,2.1]\n",
    "\n",
    "# 计算增长因子：1+回报率/100\n",
    "growth_factors = 1 + np.array(annual_returns)/100\n",
    "\n",
    "# 计算增长因子的几何平均数\n",
    "geo_mean = sts.gmean(growth_factors) \n",
    "\n",
    "# 打印结果\n",
    "print(\"年平均增长率为:\", (geo_mean-1)*100)"
   ]
  },
  {
   "cell_type": "code",
   "execution_count": 2,
   "metadata": {},
   "outputs": [
    {
     "data": {
      "text/plain": [
       "1.029275463362005"
      ]
     },
     "execution_count": 2,
     "metadata": {},
     "output_type": "execute_result"
    }
   ],
   "source": [
    "geo_mean"
   ]
  },
  {
   "cell_type": "code",
   "execution_count": 3,
   "metadata": {},
   "outputs": [
    {
     "data": {
      "text/plain": [
       "133.4492688303314"
      ]
     },
     "execution_count": 3,
     "metadata": {},
     "output_type": "execute_result"
    }
   ],
   "source": [
    "100*((geo_mean)**10)"
   ]
  },
  {
   "cell_type": "markdown",
   "metadata": {},
   "source": [
    "因此，第1年年初投资额为100，第 10 年年末价值将为133.4492688303314"
   ]
  },
  {
   "cell_type": "markdown",
   "metadata": {},
   "source": [
    "如果在计算增长因子的平均数的时候没有用几何平均数而是用算术平均数："
   ]
  },
  {
   "cell_type": "code",
   "execution_count": 5,
   "metadata": {},
   "outputs": [
    {
     "data": {
      "text/plain": [
       "1.0504000000000002"
      ]
     },
     "execution_count": 5,
     "metadata": {},
     "output_type": "execute_result"
    }
   ],
   "source": [
    "ari_mean  = np.sum(np.array(growth_factors))/10\n",
    "ari_mean  "
   ]
  },
  {
   "cell_type": "code",
   "execution_count": 6,
   "metadata": {},
   "outputs": [
    {
     "data": {
      "text/plain": [
       "163.51105881342932"
      ]
     },
     "execution_count": 6,
     "metadata": {},
     "output_type": "execute_result"
    }
   ],
   "source": [
    "100*((ari_mean)**10)"
   ]
  },
  {
   "cell_type": "markdown",
   "metadata": {},
   "source": [
    "如果平均增长因子确实为1.0504的话，第1年年初在该基金投资100 美元，第10年年末将增加到100x1.0504=163.451美元。但是，利用表3-2 中的年回报率，我们看到最初的100美元投资额第10 年年末的价值为 133.45 美元。这个基金经理的平均年回报率为5.04%的声明极度夸大了该基金的实际增长率。"
   ]
  },
  {
   "cell_type": "markdown",
   "metadata": {},
   "source": [
    "这个问题是样本平均数只适合于加法过程。对于乘法过程，诸如增长率的应用，几何平均数是合适的位置度量。\n",
    "\n",
    "在财务、投资和银行业的问题中，几何平均数的应用尤为常见，当你任何时候想确定过去几个连续时期的平均变化率时，都能应用几何平均数。其他通常的应用包括物种总体、农作物产量、污染水平以及出生率和死亡率的变化。\n",
    "\n",
    "注意，几何平均数也可以用于发生在所有时间长度的连续时期的任何数量的变化率。除了年变化率外，几何平均数也常常用于发现季度、月、周以及天的平均变化率。"
   ]
  },
  {
   "cell_type": "code",
   "execution_count": 7,
   "metadata": {},
   "outputs": [
    {
     "name": "stdout",
     "output_type": "stream",
     "text": [
      "卡方值=6.3334567901234555, p值=0.011848116168529757, 自由度=1\n"
     ]
    }
   ],
   "source": [
    "from  scipy.stats import chi2_contingency\n",
    "import numpy as np\n",
    "data = np.array([[15,10], [10,26]])\n",
    "chi2, p, dof, expected  = chi2_contingency(data,correction =False)\n",
    "print(f'卡方值={chi2}, p值={p}, 自由度={dof}')"
   ]
  },
  {
   "cell_type": "code",
   "execution_count": null,
   "metadata": {},
   "outputs": [],
   "source": []
  }
 ],
 "metadata": {
  "kernelspec": {
   "display_name": "Python 3",
   "language": "python",
   "name": "python3"
  },
  "language_info": {
   "codemirror_mode": {
    "name": "ipython",
    "version": 3
   },
   "file_extension": ".py",
   "mimetype": "text/x-python",
   "name": "python",
   "nbconvert_exporter": "python",
   "pygments_lexer": "ipython3",
   "version": "3.7.6"
  }
 },
 "nbformat": 4,
 "nbformat_minor": 4
}
