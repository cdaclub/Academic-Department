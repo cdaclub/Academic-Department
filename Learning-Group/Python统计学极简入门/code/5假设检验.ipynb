{
 "cells": [
  {
   "cell_type": "markdown",
   "metadata": {},
   "source": [
    "### 一个总体 均值的假设检验 (指定值和样本均值)"
   ]
  },
  {
   "cell_type": "code",
   "execution_count": 44,
   "metadata": {},
   "outputs": [],
   "source": [
    "from scipy import stats\n",
    "import scipy.stats\n",
    "import numpy as np\n",
    "import pandas  as pd\n",
    "import statsmodels.stats.weightstats"
   ]
  },
  {
   "cell_type": "markdown",
   "metadata": {},
   "source": [
    "#### 大样本 $\\sigma$ 已知 : $z$ 检验"
   ]
  },
  {
   "cell_type": "markdown",
   "metadata": {},
   "source": [
    "**例5.1 检验一批厂家生产的红糖是否够标重** \n",
    "\n",
    "监督部门称了50包标重500g的红糖，均值是498.35g，少于所标的500g。对于厂家生产的这批红糖平均起来是否够份量，需要统计检验。\n",
    "\n",
    "**分析过程：**\n",
    "由于厂家声称每袋500g,因此原假设为总体均值等于500g(被怀疑对象总是放在零假设)。而且由于样本均值少于500g(这是怀疑的根据)，把备择假设设定为总体均值少于500g  (上面这种备选假设为单向不等式的检验称为单侧检验,而备选假设为不等号“$≠$”的称为双侧检验，后面会解释)\n"
   ]
  },
  {
   "cell_type": "markdown",
   "metadata": {},
   "source": [
    "于是我们有了原假设和备择假设"
   ]
  },
  {
   "cell_type": "markdown",
   "metadata": {},
   "source": [
    "$H_0:\\mu = 500 \\leftrightarrow  H_1：\\mu <500$:"
   ]
  },
  {
   "cell_type": "code",
   "execution_count": 787,
   "metadata": {},
   "outputs": [],
   "source": [
    "data = [493.01,498.83,494.16,500.39,497.63,499.72,493.41,498.97,501.94,503.45,497.47,494.19,500.99,495.81,499.63,494.91,498.90,502.43,491.34,497.50,505.95,496.56,501.66,492.02,497.68,493.48,505.40,499.21,505.84,499.41,505.65,500.51,489.53,496.55,492.26,498.91,496.65,496.38,497.16,498.91,490.98,499.97,501.21,502.85,494.35,502.96,506.21,497.66,504.66,492.11]"
   ]
  },
  {
   "cell_type": "code",
   "execution_count": 790,
   "metadata": {},
   "outputs": [
    {
     "name": "stdout",
     "output_type": "stream",
     "text": [
      "-2.6961912076362085 0.0035068696715304876\n"
     ]
    }
   ],
   "source": [
    "z, pval = statsmodels.stats.weightstats.ztest(data, value=500,alternative = 'smaller')\n",
    "\n",
    "# 'two-sided': 样本均值与给定的总体均值不同\n",
    "# 'larger' :   样本均值小于给定总体均值\n",
    "# 'smaller' :  样本均值大于给定总体均值\n",
    "print(z,pval)"
   ]
  },
  {
   "cell_type": "markdown",
   "metadata": {},
   "source": [
    "**结论：** 选择显著性水平 0.05 的话，`P=0.0035 < 0.05`, 故应该拒绝原假设。具体来说就是该结果倾向于支持平均重量小于500g的备则假设。"
   ]
  },
  {
   "cell_type": "markdown",
   "metadata": {},
   "source": [
    "#### 小样本 $\\sigma$ 未知 : $t$ 检验"
   ]
  },
  {
   "cell_type": "markdown",
   "metadata": {},
   "source": [
    "**例5.2 检验汽车实际排放是否低于其声称的排放标准** \n",
    "\n",
    "汽车厂商声称其发动机排放标准的一个指标平均低于20个单位。在抽查了10台发动机之后,得到下面的排放数据:\n",
    "`17.0 21.7 17.9 22.9 20.7 22.4 17.3 21.8 24.2 25.4`\n",
    "该样本均值为21.13.究竟能否由此认为该指标均值超过20?"
   ]
  },
  {
   "cell_type": "markdown",
   "metadata": {},
   "source": [
    "分析过程： 由于厂家声称指标平均低于20个单位,因此原假设为总体均值等于20个单位(被怀疑对象总是放在零假设)。而且由于样本均值大于20(这是怀疑的根据)，把备择假设设定为总体均值大于20个单位"
   ]
  },
  {
   "cell_type": "markdown",
   "metadata": {},
   "source": [
    "于是我们有了原假设和备择假设"
   ]
  },
  {
   "cell_type": "markdown",
   "metadata": {},
   "source": [
    "$H_0:\\mu = 20 \\leftrightarrow  H_1：\\mu > 20$:"
   ]
  },
  {
   "cell_type": "code",
   "execution_count": 2,
   "metadata": {},
   "outputs": [],
   "source": [
    "data = [17.0, 21.7, 17.9, 22.9, 20.7, 22.4, 17.3, 21.8, 24.2, 25.4]"
   ]
  },
  {
   "cell_type": "code",
   "execution_count": 25,
   "metadata": {},
   "outputs": [
    {
     "data": {
      "text/plain": [
       "21.13"
      ]
     },
     "execution_count": 25,
     "metadata": {},
     "output_type": "execute_result"
    }
   ],
   "source": [
    "import numpy as np\n",
    "x_bar = np.array(data).mean()\n",
    "x_bar"
   ]
  },
  {
   "cell_type": "code",
   "execution_count": 36,
   "metadata": {},
   "outputs": [
    {
     "data": {
      "text/plain": [
       "7.552099999999998"
      ]
     },
     "execution_count": 36,
     "metadata": {},
     "output_type": "execute_result"
    }
   ],
   "source": [
    "((data-x_bar)**2).sum()/len(data)"
   ]
  },
  {
   "cell_type": "code",
   "execution_count": 37,
   "metadata": {},
   "outputs": [
    {
     "data": {
      "text/plain": [
       "2.7481084403640255"
      ]
     },
     "execution_count": 37,
     "metadata": {},
     "output_type": "execute_result"
    }
   ],
   "source": [
    "s = np.sqrt(((data-x_bar)**2).sum()/len(data))\n",
    "s"
   ]
  },
  {
   "cell_type": "code",
   "execution_count": 38,
   "metadata": {},
   "outputs": [
    {
     "data": {
      "text/plain": [
       "9"
      ]
     },
     "execution_count": 38,
     "metadata": {},
     "output_type": "execute_result"
    }
   ],
   "source": [
    "len(data)-1"
   ]
  },
  {
   "cell_type": "code",
   "execution_count": 39,
   "metadata": {},
   "outputs": [
    {
     "data": {
      "text/plain": [
       "1.2335757753252794"
      ]
     },
     "execution_count": 39,
     "metadata": {},
     "output_type": "execute_result"
    }
   ],
   "source": [
    "t = (x_bar - 20)/(s/np.sqrt(len(data)-1))\n",
    "t"
   ]
  },
  {
   "cell_type": "code",
   "execution_count": 40,
   "metadata": {},
   "outputs": [
    {
     "data": {
      "text/plain": [
       "0.1243024777589817"
      ]
     },
     "execution_count": 40,
     "metadata": {},
     "output_type": "execute_result"
    }
   ],
   "source": [
    "scipy.stats.t.sf(1.2335757753252794, 9)"
   ]
  },
  {
   "cell_type": "code",
   "execution_count": 41,
   "metadata": {},
   "outputs": [
    {
     "name": "stdout",
     "output_type": "stream",
     "text": [
      "1.2335757753252794 0.1243024777589817\n"
     ]
    }
   ],
   "source": [
    "import scipy.stats\n",
    "t, pval = scipy.stats.ttest_1samp(a = data, popmean=20,alternative = 'greater')\n",
    "# 说明  \n",
    "# a  为给定的样本数据\n",
    "# popmean 为给定的总体均值\n",
    "# alternative 定义备择假设。以下选项可用(默认为“two-sided”)：\n",
    "# ‘two-sided’：样本均值与给定的总体均值(popmean)不同\n",
    "# ‘less’：样本均值小于给定总体均值(popmean)\n",
    "# ‘greater’：样本均值大于给定总体均值(popmean)\n",
    "\n",
    "print(t, pval)\n",
    "\n",
    "# '''\n",
    "# P= 0.004793 < 5%, 拒绝原假设，接受备择假设样本\n",
    "# '''"
   ]
  },
  {
   "cell_type": "markdown",
   "metadata": {},
   "source": [
    "**结论：** 选择显著性水平 0.01 的话，`P=0.1243 > 0.05`, 故无法拒绝原假设。具体来说就是该结果无法支持指标均值超过20的备则假设。"
   ]
  },
  {
   "cell_type": "markdown",
   "metadata": {},
   "source": [
    "#### 一个总体比例假设检验(指定比例和样本比例的检验)"
   ]
  },
  {
   "cell_type": "markdown",
   "metadata": {},
   "source": [
    "**例5.3 检验高尔夫球场女性球员比例是否因促销活动而升高** \n",
    "\n",
    "某高尔夫球场去年打球🏌🏻‍的人当中有20%是女性，为了增加女性球员的比例，该球场推出了一项促销活动来吸引更多的女性参加高尔夫运动，在活动实施了1个月后，球场的研究者想通过统计分析研究确定高尔夫球场的女性球员比例是否上升，收集到了400个随机样本，其中有100是女性\n",
    "\n",
    "\n",
    "分析过程： 由于研究的是女性球员所占的比例是否上升，因此选择上侧检验比较合适,备择假设是比例大于20%\n",
    "\n",
    "于是我们有了原假设和备择假设"
   ]
  },
  {
   "cell_type": "markdown",
   "metadata": {},
   "source": [
    "$H_0:p \\leqslant 0.20 \\leftrightarrow  H_1：p > 0.20$:"
   ]
  },
  {
   "cell_type": "markdown",
   "metadata": {},
   "source": [
    "#### 方法1：用statsmodels.stats.proportion里面的proportions_ztest函数计算（推荐）"
   ]
  },
  {
   "cell_type": "code",
   "execution_count": 832,
   "metadata": {},
   "outputs": [
    {
     "name": "stdout",
     "output_type": "stream",
     "text": [
      "z统计量： 2.4999999999999996\n",
      "p值： 0.006209665325776138\n"
     ]
    }
   ],
   "source": [
    "import numpy as np\n",
    "from statsmodels.stats.proportion import proportions_ztest\n",
    "\n",
    "count = 100\n",
    "nobs = 400\n",
    "p_0 = 0.2\n",
    "\n",
    "\n",
    "# 执行单一样本比例检验 statsmodels.stats.proportion.proportions_ztest\n",
    "z_statistic, p_value = proportions_ztest(count, nobs, value = p_0,alternative='larger',prop_var = value)\n",
    "# 注：statsmodels.stats.proportion.proportions_ztest 的函数有几个问题：讲在第八节之后说明，感兴趣的读者请持续关注\n",
    "\n",
    "# 打印结果\n",
    "print(\"z统计量：\", z_statistic)\n",
    "print(\"p值：\", p_value)"
   ]
  },
  {
   "cell_type": "markdown",
   "metadata": {},
   "source": [
    "#### 方法2 用手动方式计算"
   ]
  },
  {
   "cell_type": "code",
   "execution_count": 810,
   "metadata": {},
   "outputs": [
    {
     "name": "stdout",
     "output_type": "stream",
     "text": [
      "z统计量： 2.4999999999999996\n",
      "p值： 0.006209665325776138\n"
     ]
    }
   ],
   "source": [
    "count = 100\n",
    "nobs = 400\n",
    "p_0 = 0.2\n",
    "\n",
    "\n",
    "p_bar = count/nobs\n",
    "p_0 = 0.2\n",
    "n = 400\n",
    "\n",
    "def calc_z_score(p_bar, p_0, n):\n",
    "    z = (p_bar - p_0) / (p_0 * (1 - p_0) / n)**0.5\n",
    "    return z\n",
    "\n",
    "z = calc_z_score(p_bar, p_0, n)\n",
    "p = stats.norm.sf(z)\n",
    "\n",
    "\n",
    "# 打印结果\n",
    "print(\"z统计量：\", z)\n",
    "print(\"p值：\", p)"
   ]
  },
  {
   "cell_type": "markdown",
   "metadata": {},
   "source": [
    "**结论：** 选择显著性水平 0.05 的话，`P=0.0062 < 0.05`, 拒绝原假设。具体来说就是该结果支持特定的促销活动能够提升该球场女性运动员比例的备则假设。"
   ]
  },
  {
   "cell_type": "markdown",
   "metadata": {},
   "source": [
    "#### 方式3 用 statsmodels.stats.proportion的binom_test函数计算P值"
   ]
  },
  {
   "cell_type": "code",
   "execution_count": 811,
   "metadata": {},
   "outputs": [
    {
     "name": "stdout",
     "output_type": "stream",
     "text": [
      "p值： 0.008595072543182238\n"
     ]
    }
   ],
   "source": [
    "import numpy as np\n",
    "from statsmodels.stats.proportion import binom_test\n",
    "count = 100\n",
    "nobs = 400\n",
    "p_0 = 0.2\n",
    "\n",
    "\n",
    "# 执行单一样本比例检验 statsmodels.stats.proportion.binom_test\n",
    "\n",
    "p = binom_test(count, nobs, prop = p_0,alternative='larger')\n",
    "\n",
    "print(\"p值：\", p)"
   ]
  },
  {
   "cell_type": "markdown",
   "metadata": {},
   "source": [
    "#### 方式4 用scipy.stats的binom_test函数计算P值"
   ]
  },
  {
   "cell_type": "code",
   "execution_count": 812,
   "metadata": {},
   "outputs": [
    {
     "name": "stdout",
     "output_type": "stream",
     "text": [
      "p值： 0.008595072543182238\n"
     ]
    }
   ],
   "source": [
    "count = 100\n",
    "nobs = 400\n",
    "p_0 = 0.2\n",
    "\n",
    "\n",
    "# 执行单一样本比例检验 scipy.stats.binom_test\n",
    "\n",
    "p = scipy.stats.binom_test(x = count, n=nobs, p = p_0,alternative='greater')\n",
    "\n",
    "\n",
    "print(\"p值：\", p)"
   ]
  },
  {
   "cell_type": "markdown",
   "metadata": {},
   "source": [
    "#### 一个总体方差的假设检验（指定方差和样本方差）"
   ]
  },
  {
   "cell_type": "code",
   "execution_count": 813,
   "metadata": {},
   "outputs": [],
   "source": [
    "import numpy as np\n",
    "from scipy import stats\n",
    "\n",
    "def chi2test(sample_var, sample_num,sigma_square,side, alpha=0.05):\n",
    "    '''\n",
    "    参数：\n",
    "    sample_var--样本方差\n",
    "    sample_num--样本容量\n",
    "    sigma_square--H0方差\n",
    "    返回值：\n",
    "    pval\n",
    "    '''\n",
    "    chi_square =((sample_num-1)*sample_var)/(sigma_square)\n",
    "    p_value = None\n",
    "    if side == 'two-sided':\n",
    "        p = stats.chi2(df=sample_num-1).cdf(chi_square)\n",
    "        p_value = 2*np.min([p, 1-p])\n",
    "    elif side == 'less':\n",
    "        p_value = stats.chi2(df=sample_num-1).cdf(chi_square)\n",
    "    elif side == 'greater':\n",
    "        p_value = stats.chi2(df=sample_num-1).sf(chi_square)\n",
    "    return chi_square,p_value"
   ]
  },
  {
   "cell_type": "markdown",
   "metadata": {},
   "source": [
    "**例5.4 检验公交车到站时间的方差是否比规定标准大** \n",
    "\n",
    "某市中心车站为规范化提升市民对于公交车到站时间的满意度，对于公交车的到站时间管理做了规定，标准是到站时间的方差不超过4。为了检验时间的到站时间的方差是否过大，随机抽取了24辆公交车的到站时间组成一个样本，得到的样本方差是 $s^2=4.9$，假设到站时间的总体分布符合正态分布，请分析总体方差是否过大。\n",
    "\n",
    "分析过程： 由于研究的是方差是否过大，因此选择上侧检验比较合适,备择假设是方差大于4\n",
    "\n",
    "于是我们有了原假设和备择假设"
   ]
  },
  {
   "cell_type": "markdown",
   "metadata": {},
   "source": [
    "$H_0: \\sigma^2 \\leqslant 4 \\leftrightarrow  H_1：\\sigma^2 > 4$:"
   ]
  },
  {
   "cell_type": "code",
   "execution_count": 814,
   "metadata": {},
   "outputs": [
    {
     "name": "stdout",
     "output_type": "stream",
     "text": [
      "p值： 0.2092362676676498\n"
     ]
    }
   ],
   "source": [
    "chi_square,p_value = chi2test(sample_var = 4.9, sample_num = 24, sigma_square = 4,side='greater')\n",
    "# 上侧检验 side='greater'\n",
    "\n",
    "print(\"p值：\", p_value)"
   ]
  },
  {
   "cell_type": "markdown",
   "metadata": {},
   "source": [
    "**结论：** 选择显著性水平 0.05 的话，`P=0.2092 > 0.05`, 无法拒绝原假设。具体来说就是该结果不支持方差变大的备则假设。"
   ]
  },
  {
   "cell_type": "markdown",
   "metadata": {},
   "source": [
    "**例5.5 检验某考试中心升级题库后考生分数的方差是否有显著变化** \n",
    "\n",
    "某数据分析师认证考试机构CDA考试中心，历史上的持证人考试分数的方差为 $\\sigma^2=100$，现在升级了题库，该考试中心希望新型考题的方差保持在原有水平上，为了研究该问题，收集到了30份新考题的考分组成的样本，样本方差是$\\sigma^2=152$，在 $\\alpha=0.05$的显著性水平下进行假设检验。\n",
    "\n",
    "\n",
    "分析过程：由于目标是希望考试分数的方差保持原有水平，因此选择双侧检验\n",
    "\n",
    "于是我们有了原假设和备择假设\n",
    "\n",
    "$H_0: \\sigma^2 =100 \\leftrightarrow  H_1：\\sigma^2 \\neq 100$:"
   ]
  },
  {
   "cell_type": "code",
   "execution_count": 815,
   "metadata": {},
   "outputs": [
    {
     "name": "stdout",
     "output_type": "stream",
     "text": [
      "p值： 0.07213100536907469\n"
     ]
    }
   ],
   "source": [
    "chi_square,p_value = chi2test(sample_var = 152, sample_num = 30, sigma_square = 100,side='two-sided')\n",
    "# 双侧检验 side='two-sided'\n",
    "print(\"p值：\", p_value)"
   ]
  },
  {
   "cell_type": "markdown",
   "metadata": {},
   "source": [
    "**结论：** 选择显著性水平 0.05 的话，`P=0.0721 > 0.05`, 故无法拒绝原假设。具体来说就是不支持方差发生了变化的备则假设。"
   ]
  },
  {
   "cell_type": "markdown",
   "metadata": {},
   "source": [
    "### 两总体均值之差的假设检验 独立样本"
   ]
  },
  {
   "cell_type": "markdown",
   "metadata": {},
   "source": [
    "**例5.6（数据：drug.txt） 检验某药物在实验组的指标是否低于对照组**\n",
    "\n",
    "为检测某种药物对情绪的影响，对实验组的100名服药者和对照组的150名非服药者进行心理测试，得到相应的某指标。需要检验实验组指标的总体均值$\\mu_1$是否大于对照组的指标的总体均值$\\mu_2$。这里假定两个总体独立地服从正态分布。相应的假设检验问题为:"
   ]
  },
  {
   "cell_type": "markdown",
   "metadata": {},
   "source": [
    "分析过程：由于目标是检验实验组指标的总体均值$\\mu_1$是否大于对照组的指标的总体均值$\\mu_2$，因此选择上侧检验\n",
    "\n",
    "于是我们有了原假设和备择假设\n",
    "\n",
    "$H_0: \\mu_1 \\leqslant \\mu_2 \\leftrightarrow  H_1：\\mu_1 > \\mu_2$:"
   ]
  },
  {
   "cell_type": "code",
   "execution_count": 820,
   "metadata": {},
   "outputs": [],
   "source": [
    "data = pd.read_table(\"./t-data/drug.txt\",sep = ' ') "
   ]
  },
  {
   "cell_type": "code",
   "execution_count": 822,
   "metadata": {},
   "outputs": [
    {
     "data": {
      "text/html": [
       "<div>\n",
       "<style scoped>\n",
       "    .dataframe tbody tr th:only-of-type {\n",
       "        vertical-align: middle;\n",
       "    }\n",
       "\n",
       "    .dataframe tbody tr th {\n",
       "        vertical-align: top;\n",
       "    }\n",
       "\n",
       "    .dataframe thead th {\n",
       "        text-align: right;\n",
       "    }\n",
       "</style>\n",
       "<table border=\"1\" class=\"dataframe\">\n",
       "  <thead>\n",
       "    <tr style=\"text-align: right;\">\n",
       "      <th></th>\n",
       "      <th>ah</th>\n",
       "      <th>id</th>\n",
       "    </tr>\n",
       "  </thead>\n",
       "  <tbody>\n",
       "    <tr>\n",
       "      <th>234</th>\n",
       "      <td>5.9</td>\n",
       "      <td>2</td>\n",
       "    </tr>\n",
       "    <tr>\n",
       "      <th>79</th>\n",
       "      <td>6.3</td>\n",
       "      <td>1</td>\n",
       "    </tr>\n",
       "    <tr>\n",
       "      <th>241</th>\n",
       "      <td>6.2</td>\n",
       "      <td>2</td>\n",
       "    </tr>\n",
       "    <tr>\n",
       "      <th>63</th>\n",
       "      <td>12.2</td>\n",
       "      <td>1</td>\n",
       "    </tr>\n",
       "    <tr>\n",
       "      <th>182</th>\n",
       "      <td>0.6</td>\n",
       "      <td>2</td>\n",
       "    </tr>\n",
       "  </tbody>\n",
       "</table>\n",
       "</div>"
      ],
      "text/plain": [
       "       ah  id\n",
       "234   5.9   2\n",
       "79    6.3   1\n",
       "241   6.2   2\n",
       "63   12.2   1\n",
       "182   0.6   2"
      ]
     },
     "execution_count": 822,
     "metadata": {},
     "output_type": "execute_result"
    }
   ],
   "source": [
    "data.sample(5)"
   ]
  },
  {
   "cell_type": "code",
   "execution_count": 823,
   "metadata": {},
   "outputs": [],
   "source": [
    "a = data[data['id']==1]['ah']\n",
    "b = data[data['id']==2]['ah']"
   ]
  },
  {
   "cell_type": "code",
   "execution_count": 824,
   "metadata": {},
   "outputs": [
    {
     "name": "stdout",
     "output_type": "stream",
     "text": [
      "0.9109168350628888 0.18161186154576608\n"
     ]
    }
   ],
   "source": [
    "'''\n",
    "H0: 实验组的均值等于对照组\n",
    "H1: 实验组的均值大于对照组\n",
    "'''\n",
    "t, pval = scipy.stats.ttest_ind(a,b,alternative = 'greater')\n",
    "# 选择上侧检验 所以这里 alternative = 'greater'\n",
    "print(t,pval)"
   ]
  },
  {
   "cell_type": "markdown",
   "metadata": {},
   "source": [
    "**结论：** 选择显著性水平 0.05 的话，`p = 0.1816 > 0.05`,无法拒绝H0，具体来说就是该结果无法支持实验组均值大于对照组的备则假设。"
   ]
  },
  {
   "cell_type": "markdown",
   "metadata": {},
   "source": [
    "#### 两总体均值之差的假设检验(配对样本)"
   ]
  },
  {
   "cell_type": "markdown",
   "metadata": {},
   "source": [
    "**例5.7(数据: diet.txt) 检验减肥前后的质量是否有显著性差异（是否有减肥效果）** \n",
    "\n",
    "这里有两列50对减肥数据。其中一列数据(变量名before)是减肥前的重量，另一列(变量名after)是减肥后的重量(单位: 公斤)，人们希望比较50个人在减肥前和减肥后的重量。\n",
    "\n",
    "分析过程：这里不能用前面的独立样本均值差的检验，这是因为两个样本并不独立。每一个人减肥后的重量都和自己减肥前的重量有关，但不同人之间却是独立的，所以应该用配对样本检验。同时，由于研究的是减肥前后的重量变化，期望减肥前的重量大于减肥后的重量，所以备择假设是期望减肥前的重量大于减肥后的重量\n",
    "\n",
    "于是我们有了原假设和备择假设：\n",
    "\n",
    "\n",
    "$H_0: \\mu_1 = \\mu_2 \\leftrightarrow  H_1：\\mu_1 > \\mu_2$:"
   ]
  },
  {
   "cell_type": "code",
   "execution_count": 45,
   "metadata": {},
   "outputs": [],
   "source": [
    "data = pd.read_table(\"./t-data/diet.txt\",sep = ' ')"
   ]
  },
  {
   "cell_type": "code",
   "execution_count": 46,
   "metadata": {},
   "outputs": [
    {
     "data": {
      "text/html": [
       "<div>\n",
       "<style scoped>\n",
       "    .dataframe tbody tr th:only-of-type {\n",
       "        vertical-align: middle;\n",
       "    }\n",
       "\n",
       "    .dataframe tbody tr th {\n",
       "        vertical-align: top;\n",
       "    }\n",
       "\n",
       "    .dataframe thead th {\n",
       "        text-align: right;\n",
       "    }\n",
       "</style>\n",
       "<table border=\"1\" class=\"dataframe\">\n",
       "  <thead>\n",
       "    <tr style=\"text-align: right;\">\n",
       "      <th></th>\n",
       "      <th>before</th>\n",
       "      <th>after</th>\n",
       "    </tr>\n",
       "  </thead>\n",
       "  <tbody>\n",
       "    <tr>\n",
       "      <th>42</th>\n",
       "      <td>76</td>\n",
       "      <td>71</td>\n",
       "    </tr>\n",
       "    <tr>\n",
       "      <th>3</th>\n",
       "      <td>75</td>\n",
       "      <td>72</td>\n",
       "    </tr>\n",
       "    <tr>\n",
       "      <th>34</th>\n",
       "      <td>59</td>\n",
       "      <td>54</td>\n",
       "    </tr>\n",
       "    <tr>\n",
       "      <th>17</th>\n",
       "      <td>79</td>\n",
       "      <td>77</td>\n",
       "    </tr>\n",
       "    <tr>\n",
       "      <th>14</th>\n",
       "      <td>73</td>\n",
       "      <td>72</td>\n",
       "    </tr>\n",
       "  </tbody>\n",
       "</table>\n",
       "</div>"
      ],
      "text/plain": [
       "    before  after\n",
       "42      76     71\n",
       "3       75     72\n",
       "34      59     54\n",
       "17      79     77\n",
       "14      73     72"
      ]
     },
     "execution_count": 46,
     "metadata": {},
     "output_type": "execute_result"
    }
   ],
   "source": [
    "data.sample(5)#.to_markdown()\n"
   ]
  },
  {
   "cell_type": "code",
   "execution_count": 63,
   "metadata": {},
   "outputs": [],
   "source": [
    "d = data['before'] - data['after']"
   ]
  },
  {
   "cell_type": "code",
   "execution_count": 64,
   "metadata": {},
   "outputs": [],
   "source": [
    "d_bar = ( d).sum()/len(data)"
   ]
  },
  {
   "cell_type": "code",
   "execution_count": 65,
   "metadata": {},
   "outputs": [
    {
     "data": {
      "text/plain": [
       "3.9622710453393633"
      ]
     },
     "execution_count": 65,
     "metadata": {},
     "output_type": "execute_result"
    }
   ],
   "source": [
    "s_d = np.sqrt(((d -d_bar)**2).sum()/(len(data)-1))\n",
    "s_d"
   ]
  },
  {
   "cell_type": "code",
   "execution_count": 69,
   "metadata": {},
   "outputs": [
    {
     "data": {
      "text/plain": [
       "3.3550474801424177"
      ]
     },
     "execution_count": 69,
     "metadata": {},
     "output_type": "execute_result"
    }
   ],
   "source": [
    "t = (d_bar)/(s_d/np.sqrt(len(data)))\n",
    "t"
   ]
  },
  {
   "cell_type": "code",
   "execution_count": 70,
   "metadata": {},
   "outputs": [
    {
     "data": {
      "text/plain": [
       "0.0007694243254842176"
      ]
     },
     "execution_count": 70,
     "metadata": {},
     "output_type": "execute_result"
    }
   ],
   "source": [
    "scipy.stats.t.sf(t, len(data)-1)"
   ]
  },
  {
   "cell_type": "code",
   "execution_count": 829,
   "metadata": {},
   "outputs": [],
   "source": [
    "a = data['before']\n",
    "b = data['after']"
   ]
  },
  {
   "cell_type": "code",
   "execution_count": 799,
   "metadata": {},
   "outputs": [
    {
     "data": {
      "text/plain": [
       "Ttest_relResult(statistic=3.3550474801424173, pvalue=0.000769424325484219)"
      ]
     },
     "execution_count": 799,
     "metadata": {},
     "output_type": "execute_result"
    }
   ],
   "source": [
    "stats.ttest_rel(a, b,alternative = 'greater')"
   ]
  },
  {
   "cell_type": "markdown",
   "metadata": {},
   "source": [
    "**结论** 选择显著性水平 0.05 的话，`p = 0.0007 < 0.05`,故应该拒绝原假设。具体来说就是该结果倾向支持减肥前后的重量之差大于零（即减肥前重量大于减肥后，也就是有减肥效果）的备则假设。"
   ]
  },
  {
   "cell_type": "markdown",
   "metadata": {},
   "source": [
    "#### 两总体比例之差的假设检验"
   ]
  },
  {
   "cell_type": "code",
   "execution_count": 800,
   "metadata": {},
   "outputs": [],
   "source": [
    "import numpy as np\n",
    "import scipy.stats as stats\n",
    "\n",
    "def proportion_test(p1, p2, n1, n2, side='two-sided'):\n",
    "    \"\"\"\n",
    "    参数：\n",
    "    p1: 样本1的比例\n",
    "    p2: 样本2的比例\n",
    "    n1: 样本1的数量\n",
    "    n2: 样本2的数量\n",
    "    side: 假设检验的方向，可选'two-sided'（双侧检验，默认）, 'greater'（右侧检验）, 'less'（左侧检验）\n",
    "\n",
    "    返回值：\n",
    "    z_value: Z统计量的值\n",
    "    p_value: 对应的p值\n",
    "    \"\"\"\n",
    "    p = (p1 * n1 + p2 * n2) / (n1 + n2)\n",
    "    se = np.sqrt(p * (1 - p) * (1 / n1 + 1 / n2))\n",
    "    z_value = (p1 - p2) / se\n",
    "\n",
    "    if side == 'two-sided':\n",
    "        p_value = 2 * (1 - stats.norm.cdf(np.abs(z_value)))\n",
    "    elif side == 'greater':\n",
    "        p_value = 1 - stats.norm.cdf(z_value)\n",
    "    elif side == 'less':\n",
    "        p_value = stats.norm.cdf(z_value)\n",
    "    else:\n",
    "        raise ValueError(\"Invalid side value. Must be 'two-sided', 'greater', or 'less'.\")\n",
    "\n",
    "    return z_value, p_value"
   ]
  },
  {
   "cell_type": "markdown",
   "metadata": {},
   "source": [
    "**例5.8 检验不同保险客户的索赔率是否存在差异** \n",
    "\n",
    "某保险公司抽取了单身与已婚客户的样本，记录了他们在一段数据内的索赔次数，计算了索赔率，现在需要检验两种保险客户的索赔率是否存在差异\n",
    "\n",
    "分析过程：由于目标比例是否有差异，因此选择比例之差的双侧检验\n",
    "\n",
    "于是我们有了原假设和备择假设\n",
    "\n",
    "$H_0: p_1 = p_2 \\leftrightarrow  H_1：p_1 \\neq p_2$:"
   ]
  },
  {
   "cell_type": "code",
   "execution_count": 774,
   "metadata": {},
   "outputs": [
    {
     "name": "stdout",
     "output_type": "stream",
     "text": [
      "Z_value: 1.846189280616294\n",
      "p_value: 0.0648647268570739\n"
     ]
    }
   ],
   "source": [
    "p1 = 0.14\n",
    "p2 = 0.09\n",
    "n1 = 250\n",
    "n2 = 300\n",
    "\n",
    "z_value, p_value = proportion_test(p1, p2, n1, n2, side='two-sided')\n",
    "# 选择双侧检验 alternative = 'two-sided'\n",
    "\n",
    "print(\"Z_value:\", z_value)\n",
    "print(\"p_value:\", p_value)"
   ]
  },
  {
   "cell_type": "markdown",
   "metadata": {},
   "source": [
    "**结论** 选择显著性水平 0.05 的话，`p = 0.0648 > 0.05`,故应该拒绝原假设。具体来说就是该结果倾向支持两种保险客户的索赔率存在差异的备则假设。"
   ]
  },
  {
   "cell_type": "markdown",
   "metadata": {},
   "source": [
    "####  两总体方差之比的假设检验"
   ]
  },
  {
   "cell_type": "code",
   "execution_count": 683,
   "metadata": {},
   "outputs": [],
   "source": [
    "import numpy as np\n",
    "from scipy import stats\n",
    "\n",
    "def f_test_by_s_square(n1, n2, s1_square,s2_square, side ='two-sided'):\n",
    "    \"\"\"\n",
    "    参数\n",
    "    n1 :样本1的数量\n",
    "    n2 :样本2的数量\n",
    "    s1_square:样本1的方差\n",
    "    s2_square:样本2的方差\n",
    "    # \n",
    "    # F_value :F统计量的值\n",
    "    # p_value :对应的p值\n",
    "    \"\"\"\n",
    "    F_value = s1_square/s2_square\n",
    "    F = stats.f(dfn = n1-1, dfd = n2-1)\n",
    "    if side=='two-sided':\n",
    "        print(\"two-sided\")\n",
    "        p_value = 2*min(F.cdf(F_value), 1-F.cdf(F_value))\n",
    "        return F_value,p_value\n",
    "    elif  side=='greater':\n",
    "        print(\"greater\")\n",
    "        p_value = 1-F.cdf(F_value)\n",
    "        return F_value,p_value"
   ]
  },
  {
   "cell_type": "markdown",
   "metadata": {},
   "source": [
    "**例5.9 检验不同公交公司的校车到达时间的方差是否有差异** \n",
    "\n",
    "某学校的校车合同到期，先需要在A、B两个校车供应公司中选择一个，才有到达时间的方差作为衡量服务质量的标准，较低方差说明服务质量稳定且水平较高，如果方差相等，则会选择价格更低的公司，，如果方差不等，则优先考虑方差更低的公司。\n",
    "现收集到了A公司的26次到达时间组成一个样本，方差68，B公司16次到达时间组成一个样本，方差是30，请检验AB两个公司的到达时间方差。\n",
    "\n",
    "\n",
    "分析过程：由于目标是希望的方差保持原有水平，因此选择双侧检验。两总体方差之比用F检验,将方差较大的A视为总体1\n",
    "\n",
    "于是我们有了原假设和备择假设\n",
    "\n",
    "$H_0: \\sigma_1 = \\sigma_2  \\leftrightarrow  H_1： \\sigma_1 \\neq \\sigma_2 $:"
   ]
  },
  {
   "cell_type": "code",
   "execution_count": 775,
   "metadata": {},
   "outputs": [
    {
     "name": "stdout",
     "output_type": "stream",
     "text": [
      "two-sided\n",
      "F statistic: 3.9\n",
      "p-value: 0.00834904415829052\n"
     ]
    }
   ],
   "source": [
    "f_statistic , p_value= f_test_by_s_square(n1=26, n2=16,s1_square=78,s2_square=20,side='two-sided')\n",
    "# 选择双侧检验所以side='two-sided'\n",
    "# 打印检验结果\n",
    "print(\"F statistic:\", f_statistic)\n",
    "print(\"p-value:\", p_value)"
   ]
  },
  {
   "cell_type": "markdown",
   "metadata": {},
   "source": [
    "**结论** 选择显著性水平 0.05 的话，`p = 0.0083 < 0.05`,故拒绝原假设。结果倾向支持AB两个公司的到达时间方差存在差异的备则假设。"
   ]
  },
  {
   "cell_type": "markdown",
   "metadata": {},
   "source": [
    "**例5.10 检验修完Python课程的学生是否比修完数据库课程的学生考CDA的成绩方差更大** \n",
    "\n",
    "某高校数据科学专业的学生，修完一门数据库课程的41名学生考CDA的方差$s^2=120$，修完Python课程的31名学生考CDA的方差是$s^2=80$，这些数据是否表明，修完数据库的学生要比修完Python的学生CDA成绩的方差更大？\n",
    "\n",
    "\n",
    "分析过程：由于目标是希望修完Python的学生CDA成绩的方差更大，因此选择上侧检验。两总体方差之比用F检验,将方差较大的数据库课程的考试成绩视为总体1\n",
    "\n",
    "于是我们有了原假设和备择假设\n",
    "\n",
    "$H_0: \\sigma_1 < \\sigma_2  \\leftrightarrow  H_1： \\sigma_1 \\geqslant \\sigma_2 $:"
   ]
  },
  {
   "cell_type": "code",
   "execution_count": 801,
   "metadata": {},
   "outputs": [
    {
     "name": "stdout",
     "output_type": "stream",
     "text": [
      "greater\n",
      "F statistic: 1.5\n",
      "p-value: 0.12564167718632024\n"
     ]
    }
   ],
   "source": [
    "f_statistic , p_value= f_test_by_s_square(n1=41, n2=31,s1_square=120,s2_square=80,side='greater')# 打印检验结果\n",
    "# 选择上侧检验所以side='greater'\n",
    "print(\"F statistic:\", f_statistic)\n",
    "print(\"p-value:\", p_value)"
   ]
  },
  {
   "cell_type": "markdown",
   "metadata": {},
   "source": [
    "**结论**  选择显著性水平 0.05 的话，p = 0.1256 > 0.05，故无法原假设。结果无法支持修完数据库的学生要比修完Python的学生CDA成绩的方差更大的备则假设。"
   ]
  },
  {
   "cell_type": "markdown",
   "metadata": {},
   "source": [
    "#### 补充说明"
   ]
  },
  {
   "cell_type": "code",
   "execution_count": null,
   "metadata": {},
   "outputs": [],
   "source": []
  },
  {
   "cell_type": "code",
   "execution_count": 781,
   "metadata": {},
   "outputs": [
    {
     "data": {
      "image/png": "[encoded data removed]",
      "text/plain": [
       "<Figure size 432x288 with 4 Axes>"
      ]
     },
     "metadata": {
      "needs_background": "light"
     },
     "output_type": "display_data"
    }
   ],
   "source": [
    "import numpy as np\n",
    "import seaborn as sns\n",
    "import matplotlib.pyplot as plt\n",
    "import scipy.stats as stats\n",
    "\n",
    "# Generate random data\n",
    "np.random.seed(0)\n",
    "data = np.random.normal(loc=0, scale=1, size=1000)\n",
    "\n",
    "# Plot Normal Probability Plot\n",
    "plt.subplot(2, 2, 1)\n",
    "stats.probplot(data, dist=\"norm\", plot=plt)\n",
    "plt.title(\"Normal Probability Plot\")\n",
    "\n",
    "# Plot QQ Plot\n",
    "plt.subplot(2, 2, 2)\n",
    "stats.probplot(data, dist=\"norm\", plot=plt)\n",
    "plt.title(\"QQ Plot\")\n",
    "\n",
    "# Plot PP Plot\n",
    "plt.subplot(2, 2, 3)\n",
    "stats.probplot(data, dist=\"norm\", plot=plt, fit=True)\n",
    "plt.title(\"PP Plot\")\n",
    "\n",
    "# Plot Boxplot\n",
    "plt.subplot(2, 2, 4)\n",
    "sns.boxplot(data)\n",
    "plt.title(\"Boxplot\")\n",
    "\n",
    "plt.tight_layout()\n",
    "plt.show()\n"
   ]
  },
  {
   "cell_type": "code",
   "execution_count": 782,
   "metadata": {},
   "outputs": [
    {
     "name": "stdout",
     "output_type": "stream",
     "text": [
      "KS statistic: 0.03737519429804048\n",
      "p-value: 0.11930823166569182\n"
     ]
    }
   ],
   "source": [
    "import numpy as np\n",
    "import scipy.stats as stats\n",
    "\n",
    "# 生成随机数\n",
    "np.random.seed(0)\n",
    "data = np.random.normal(loc=0, scale=1, size=1000)\n",
    "\n",
    "# 进行KS检验\n",
    "ks_statistic, p_value = stats.kstest(data, 'norm')\n",
    "\n",
    "# 打印结果\n",
    "print(\"KS statistic:\", ks_statistic)\n",
    "print(\"p-value:\", p_value)\n"
   ]
  },
  {
   "cell_type": "markdown",
   "metadata": {},
   "source": [
    "函数将返回KS统计量和p值。KS统计量表示观察到的数据与指定分布之间的最大差异，p值表示观察到的数据与指定分布一致的概率。\n",
    "\n",
    "请注意，KS检验假设数据与指定分布完全一致。如果p值小于显著性水平（通常为0.05），则可以拒绝该假设，即数据不服从指定的分布。"
   ]
  },
  {
   "cell_type": "markdown",
   "metadata": {},
   "source": [
    "原假设是服从，备择假设是不服从"
   ]
  }
 ],
 "metadata": {
  "kernelspec": {
   "display_name": "Python 3",
   "language": "python",
   "name": "python3"
  },
  "language_info": {
   "codemirror_mode": {
    "name": "ipython",
    "version": 3
   },
   "file_extension": ".py",
   "mimetype": "text/x-python",
   "name": "python",
   "nbconvert_exporter": "python",
   "pygments_lexer": "ipython3",
   "version": "3.7.6"
  }
 },
 "nbformat": 4,
 "nbformat_minor": 4
}
